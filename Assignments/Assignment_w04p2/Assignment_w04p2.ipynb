{
 "cells": [
  {
   "cell_type": "code",
   "execution_count": 1,
   "metadata": {},
   "outputs": [],
   "source": [
    "import pandas as pd\n",
    "import numpy as np\n",
    "import pandas_profiling\n",
    "from sklearn.preprocessing import StandardScaler\n",
    "import torch\n",
    "from torch import optim"
   ]
  },
  {
   "cell_type": "code",
   "execution_count": 2,
   "metadata": {},
   "outputs": [],
   "source": [
    "import random\n",
    "\n",
    "seed = 42\n",
    "random.seed(seed)\n",
    "np.random.seed(seed)\n",
    "torch.manual_seed(seed)\n",
    "\n",
    "if torch.cuda.is_available():\n",
    "    torch.cuda.manual_seed(seed)\n",
    "    torch.cuda.manual_seed_all(seed)\n",
    "\n",
    "torch.backends.cudnn.benchmark = False\n",
    "torch.backends.cudnn.deterministic = True\n"
   ]
  },
  {
   "cell_type": "code",
   "execution_count": 3,
   "metadata": {},
   "outputs": [],
   "source": [
    "train = pd.read_csv('train.csv')\n",
    "test =pd.read_csv('test.csv')"
   ]
  },
  {
   "cell_type": "code",
   "execution_count": 4,
   "metadata": {},
   "outputs": [],
   "source": [
    "y_label = train.label\n",
    "x = train.drop('label', axis=1)"
   ]
  },
  {
   "cell_type": "code",
   "execution_count": 5,
   "metadata": {},
   "outputs": [],
   "source": [
    "from sklearn.preprocessing import LabelEncoder\n",
    "le = LabelEncoder()\n",
    "y = le.fit_transform(y_label)"
   ]
  },
  {
   "cell_type": "code",
   "execution_count": 6,
   "metadata": {},
   "outputs": [],
   "source": [
    "from sklearn.preprocessing import StandardScaler\n",
    "sc = StandardScaler()\n",
    "x = sc.fit_transform(x)\n",
    "test = sc.transform(test)"
   ]
  },
  {
   "cell_type": "code",
   "execution_count": 7,
   "metadata": {},
   "outputs": [],
   "source": [
    "label_cnt = pd.Series(y).drop_duplicates().count()"
   ]
  },
  {
   "cell_type": "code",
   "execution_count": 8,
   "metadata": {},
   "outputs": [],
   "source": [
    "W = torch.zeros((x.shape[1], label_cnt), requires_grad=True)\n",
    "b = torch.zeros(label_cnt, requires_grad=True)"
   ]
  },
  {
   "cell_type": "code",
   "execution_count": 9,
   "metadata": {},
   "outputs": [],
   "source": [
    "x_tensor = torch.FloatTensor(x)\n",
    "y_tensor = torch.LongTensor(y)\n",
    "test_tensor = torch.FloatTensor(test)"
   ]
  },
  {
   "cell_type": "code",
   "execution_count": 10,
   "metadata": {},
   "outputs": [
    {
     "data": {
      "text/plain": [
       "tensor([[-7.7403e-01, -5.2260e-01, -6.2872e-01,  ..., -9.5126e-01,\n",
       "          2.1998e+00, -6.8601e-01],\n",
       "        [-8.8126e-01, -7.9377e-01, -1.3794e-01,  ...,  9.3986e-01,\n",
       "          9.0203e-01,  4.1819e-02],\n",
       "        [ 2.7147e-01,  4.4153e-01,  3.8739e-02,  ...,  9.0291e-01,\n",
       "          4.1051e-01,  2.5427e+00],\n",
       "        ...,\n",
       "        [-1.0689e+00, -5.2260e-01, -3.3426e-01,  ..., -9.0536e-01,\n",
       "          1.7058e-03, -4.0722e-02],\n",
       "        [-1.0689e+00,  2.1288e+00,  3.0620e+00,  ...,  3.8248e-01,\n",
       "         -1.4534e-01, -5.6274e-01],\n",
       "        [-5.0595e-01,  7.4282e-01, -5.1094e-01,  ..., -4.2386e-01,\n",
       "          6.8552e-01, -8.8819e-01]])"
      ]
     },
     "execution_count": 10,
     "metadata": {},
     "output_type": "execute_result"
    }
   ],
   "source": [
    "x_tensor"
   ]
  },
  {
   "cell_type": "code",
   "execution_count": 11,
   "metadata": {},
   "outputs": [
    {
     "name": "stdout",
     "output_type": "stream",
     "text": [
      "Epoch    0/10000 Cost: 3.091042\n",
      "Epoch  100/10000 Cost: 0.584040\n",
      "Epoch  200/10000 Cost: 0.403136\n",
      "Epoch  300/10000 Cost: 0.321740\n",
      "Epoch  400/10000 Cost: 0.273493\n",
      "Epoch  500/10000 Cost: 0.241013\n",
      "Epoch  600/10000 Cost: 0.217402\n",
      "Epoch  700/10000 Cost: 0.199319\n",
      "Epoch  800/10000 Cost: 0.184939\n",
      "Epoch  900/10000 Cost: 0.173170\n",
      "Epoch 1000/10000 Cost: 0.163322\n",
      "Epoch 1100/10000 Cost: 0.154932\n",
      "Epoch 1200/10000 Cost: 0.147677\n",
      "Epoch 1300/10000 Cost: 0.141328\n",
      "Epoch 1400/10000 Cost: 0.135713\n",
      "Epoch 1500/10000 Cost: 0.130704\n",
      "Epoch 1600/10000 Cost: 0.126200\n",
      "Epoch 1700/10000 Cost: 0.122124\n",
      "Epoch 1800/10000 Cost: 0.118413\n",
      "Epoch 1900/10000 Cost: 0.115016\n",
      "Epoch 2000/10000 Cost: 0.111893\n",
      "Epoch 2100/10000 Cost: 0.109009\n",
      "Epoch 2200/10000 Cost: 0.106336\n",
      "Epoch 2300/10000 Cost: 0.103850\n",
      "Epoch 2400/10000 Cost: 0.101531\n",
      "Epoch 2500/10000 Cost: 0.099361\n",
      "Epoch 2600/10000 Cost: 0.097324\n",
      "Epoch 2700/10000 Cost: 0.095409\n",
      "Epoch 2800/10000 Cost: 0.093604\n",
      "Epoch 2900/10000 Cost: 0.091900\n",
      "Epoch 3000/10000 Cost: 0.090286\n",
      "Epoch 3100/10000 Cost: 0.088756\n",
      "Epoch 3200/10000 Cost: 0.087303\n",
      "Epoch 3300/10000 Cost: 0.085921\n",
      "Epoch 3400/10000 Cost: 0.084604\n",
      "Epoch 3500/10000 Cost: 0.083348\n",
      "Epoch 3600/10000 Cost: 0.082148\n",
      "Epoch 3700/10000 Cost: 0.081000\n",
      "Epoch 3800/10000 Cost: 0.079900\n",
      "Epoch 3900/10000 Cost: 0.078846\n",
      "Epoch 4000/10000 Cost: 0.077835\n",
      "Epoch 4100/10000 Cost: 0.076863\n",
      "Epoch 4200/10000 Cost: 0.075929\n",
      "Epoch 4300/10000 Cost: 0.075029\n",
      "Epoch 4400/10000 Cost: 0.074163\n",
      "Epoch 4500/10000 Cost: 0.073327\n",
      "Epoch 4600/10000 Cost: 0.072521\n",
      "Epoch 4700/10000 Cost: 0.071742\n",
      "Epoch 4800/10000 Cost: 0.070990\n",
      "Epoch 4900/10000 Cost: 0.070263\n",
      "Epoch 5000/10000 Cost: 0.069559\n",
      "Epoch 5100/10000 Cost: 0.068877\n",
      "Epoch 5200/10000 Cost: 0.068216\n",
      "Epoch 5300/10000 Cost: 0.067576\n",
      "Epoch 5400/10000 Cost: 0.066955\n",
      "Epoch 5500/10000 Cost: 0.066352\n",
      "Epoch 5600/10000 Cost: 0.065766\n",
      "Epoch 5700/10000 Cost: 0.065197\n",
      "Epoch 5800/10000 Cost: 0.064644\n",
      "Epoch 5900/10000 Cost: 0.064106\n",
      "Epoch 6000/10000 Cost: 0.063583\n",
      "Epoch 6100/10000 Cost: 0.063073\n",
      "Epoch 6200/10000 Cost: 0.062577\n",
      "Epoch 6300/10000 Cost: 0.062094\n",
      "Epoch 6400/10000 Cost: 0.061622\n",
      "Epoch 6500/10000 Cost: 0.061163\n",
      "Epoch 6600/10000 Cost: 0.060715\n",
      "Epoch 6700/10000 Cost: 0.060277\n",
      "Epoch 6800/10000 Cost: 0.059851\n",
      "Epoch 6900/10000 Cost: 0.059434\n",
      "Epoch 7000/10000 Cost: 0.059027\n",
      "Epoch 7100/10000 Cost: 0.058629\n",
      "Epoch 7200/10000 Cost: 0.058240\n",
      "Epoch 7300/10000 Cost: 0.057860\n",
      "Epoch 7400/10000 Cost: 0.057488\n",
      "Epoch 7500/10000 Cost: 0.057124\n",
      "Epoch 7600/10000 Cost: 0.056768\n",
      "Epoch 7700/10000 Cost: 0.056419\n",
      "Epoch 7800/10000 Cost: 0.056078\n",
      "Epoch 7900/10000 Cost: 0.055744\n",
      "Epoch 8000/10000 Cost: 0.055416\n",
      "Epoch 8100/10000 Cost: 0.055095\n",
      "Epoch 8200/10000 Cost: 0.054781\n",
      "Epoch 8300/10000 Cost: 0.054473\n",
      "Epoch 8400/10000 Cost: 0.054170\n",
      "Epoch 8500/10000 Cost: 0.053874\n",
      "Epoch 8600/10000 Cost: 0.053583\n",
      "Epoch 8700/10000 Cost: 0.053297\n",
      "Epoch 8800/10000 Cost: 0.053017\n",
      "Epoch 8900/10000 Cost: 0.052742\n",
      "Epoch 9000/10000 Cost: 0.052472\n",
      "Epoch 9100/10000 Cost: 0.052206\n",
      "Epoch 9200/10000 Cost: 0.051946\n",
      "Epoch 9300/10000 Cost: 0.051690\n",
      "Epoch 9400/10000 Cost: 0.051438\n",
      "Epoch 9500/10000 Cost: 0.051191\n",
      "Epoch 9600/10000 Cost: 0.050948\n",
      "Epoch 9700/10000 Cost: 0.050709\n",
      "Epoch 9800/10000 Cost: 0.050474\n",
      "Epoch 9900/10000 Cost: 0.050243\n",
      "Epoch 10000/10000 Cost: 0.050015\n"
     ]
    }
   ],
   "source": [
    "optimizer = optim.SGD([W, b], lr=1)\n",
    "\n",
    "nb_epochs = 10000\n",
    "for epoch in range(nb_epochs + 1):\n",
    "\n",
    "    # Cost 계산\n",
    "    hypothesis = torch.nn.functional.softmax(x_tensor.matmul(W) + b, dim=1) # or .mm or @\n",
    "\n",
    "\n",
    "    ## 중간 생략 \n",
    "\n",
    "    cost = torch.nn.functional.cross_entropy((x_tensor.matmul(W) + b), y_tensor)\n",
    "\n",
    "    # cost로 H(x) 개선\n",
    "    optimizer.zero_grad()\n",
    "    cost.backward()\n",
    "    optimizer.step()\n",
    "\n",
    "    # 100번마다 로그 출력\n",
    "    if epoch % 100 == 0:\n",
    "        print('Epoch {:4d}/{} Cost: {:.6f}'.format(\n",
    "            epoch, nb_epochs, cost.item()\n",
    "        ))\n"
   ]
  },
  {
   "cell_type": "code",
   "execution_count": 15,
   "metadata": {},
   "outputs": [],
   "source": [
    "hypothesis = torch.nn.functional.softmax(test_tensor.matmul(W) + b, dim=1) # or .mm or @\n",
    "predict = torch.argmax(hypothesis, dim=1)"
   ]
  },
  {
   "cell_type": "code",
   "execution_count": 16,
   "metadata": {},
   "outputs": [],
   "source": [
    "submit = pd.read_csv('submit.csv')\n",
    "submit.label = le.inverse_transform(predict)\n",
    "submit.to_csv('submit.csv', index=False)\n"
   ]
  }
 ],
 "metadata": {
  "kernelspec": {
   "display_name": "Python 3.9.13 64-bit ('base')",
   "language": "python",
   "name": "python3"
  },
  "language_info": {
   "codemirror_mode": {
    "name": "ipython",
    "version": 3
   },
   "file_extension": ".py",
   "mimetype": "text/x-python",
   "name": "python",
   "nbconvert_exporter": "python",
   "pygments_lexer": "ipython3",
   "version": "3.9.13"
  },
  "orig_nbformat": 4,
  "vscode": {
   "interpreter": {
    "hash": "3b56a72e9acabfb7e93d1aa640bab3f729f4fa7900e427b4a015597563d3c661"
   }
  }
 },
 "nbformat": 4,
 "nbformat_minor": 2
}
