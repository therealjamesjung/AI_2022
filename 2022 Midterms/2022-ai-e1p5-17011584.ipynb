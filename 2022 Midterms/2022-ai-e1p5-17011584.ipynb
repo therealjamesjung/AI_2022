{
 "cells": [
  {
   "cell_type": "code",
   "execution_count": 1,
   "id": "3d02c83c",
   "metadata": {
    "_cell_guid": "b1076dfc-b9ad-4769-8c92-a6c4dae69d19",
    "_uuid": "8f2839f25d086af736a60e9eeb907d3b93b6e0e5",
    "execution": {
     "iopub.execute_input": "2022-10-18T12:39:42.688856Z",
     "iopub.status.busy": "2022-10-18T12:39:42.687592Z",
     "iopub.status.idle": "2022-10-18T12:39:46.804746Z",
     "shell.execute_reply": "2022-10-18T12:39:46.803589Z"
    },
    "papermill": {
     "duration": 4.126063,
     "end_time": "2022-10-18T12:39:46.807710",
     "exception": false,
     "start_time": "2022-10-18T12:39:42.681647",
     "status": "completed"
    },
    "tags": []
   },
   "outputs": [],
   "source": [
    "# 필요한 패키지 임포트\n",
    "import random\n",
    "import torch\n",
    "import pandas as pd\n",
    "import numpy as np\n",
    "import pandas_profiling\n",
    "\n",
    "# 랜덤시드 고정\n",
    "seed = 1\n",
    "random.seed(seed)\n",
    "np.random.seed(seed)\n",
    "torch.manual_seed(seed)\n",
    "if torch.cuda.is_available():\n",
    "    torch.cuda.manual_seed(seed)\n",
    "    torch.cuda.manual_seed_all(seed)\n",
    "torch.backends.cudnn.benchmark = False\n",
    "torch.backends.cudnn.deterministic = True"
   ]
  },
  {
   "cell_type": "code",
   "execution_count": 2,
   "id": "cf276750",
   "metadata": {
    "execution": {
     "iopub.execute_input": "2022-10-18T12:39:46.815936Z",
     "iopub.status.busy": "2022-10-18T12:39:46.815327Z",
     "iopub.status.idle": "2022-10-18T12:39:46.906030Z",
     "shell.execute_reply": "2022-10-18T12:39:46.905051Z"
    },
    "papermill": {
     "duration": 0.097959,
     "end_time": "2022-10-18T12:39:46.909155",
     "exception": false,
     "start_time": "2022-10-18T12:39:46.811196",
     "status": "completed"
    },
    "tags": []
   },
   "outputs": [],
   "source": [
    "# 데이터 로드\n",
    "train = pd.read_csv('../input/2022-ai-midterm-p5/train.csv')\n",
    "test = pd.read_csv('../input/2022-ai-midterm-p5/test.csv')\n",
    "submit = pd.read_csv('../input/2022-ai-midterm-p5/submit_sample.csv')"
   ]
  },
  {
   "cell_type": "code",
   "execution_count": 3,
   "id": "d954ae9c",
   "metadata": {
    "execution": {
     "iopub.execute_input": "2022-10-18T12:39:46.916918Z",
     "iopub.status.busy": "2022-10-18T12:39:46.916567Z",
     "iopub.status.idle": "2022-10-18T12:39:46.934027Z",
     "shell.execute_reply": "2022-10-18T12:39:46.933128Z"
    },
    "papermill": {
     "duration": 0.024034,
     "end_time": "2022-10-18T12:39:46.936382",
     "exception": false,
     "start_time": "2022-10-18T12:39:46.912348",
     "status": "completed"
    },
    "tags": []
   },
   "outputs": [],
   "source": [
    "# 필요없는 column drop 및 정답 라벨 분리\n",
    "y = train['target']\n",
    "test = test.drop(['index', 'enrollee_id', 'city'], axis=1)\n",
    "x = train.drop(['index', 'enrollee_id', 'target', 'city'], axis=1)"
   ]
  },
  {
   "cell_type": "code",
   "execution_count": 4,
   "id": "8953f974",
   "metadata": {
    "execution": {
     "iopub.execute_input": "2022-10-18T12:39:46.945323Z",
     "iopub.status.busy": "2022-10-18T12:39:46.943693Z",
     "iopub.status.idle": "2022-10-18T12:39:46.998505Z",
     "shell.execute_reply": "2022-10-18T12:39:46.997544Z"
    },
    "papermill": {
     "duration": 0.061775,
     "end_time": "2022-10-18T12:39:47.001327",
     "exception": false,
     "start_time": "2022-10-18T12:39:46.939552",
     "status": "completed"
    },
    "tags": []
   },
   "outputs": [],
   "source": [
    "# 데이터 전처리\n",
    "\n",
    "# x.city = [int(str(n)[5:]) for n in x.city]\n",
    "# test.city = [int(str(n)[5:]) for n in test.city]\n",
    "\n",
    "x.gender = [1 if n == 'Female' else 0 for n in x.gender]\n",
    "test.gender = [1 if n == 'Female' else 0 for n in test.gender]\n",
    "\n",
    "x.relevent_experience = [1 if n == 'Has relevent experience' else 0 for n in x.relevent_experience]\n",
    "test.relevent_experience = [1 if n == 'Has relevent experience' else 0 for n in test.relevent_experience]\n",
    "\n",
    "x.enrolled_university = [1 if n != 'no_enrollment' else 0 for n in x.enrolled_university]\n",
    "test.enrolled_university = [1 if n != 'no_enrollment' else 0 for n in test.enrolled_university]\n",
    "\n",
    "x.education_level.fillna('Graduate', inplace=True)\n",
    "test.education_level.fillna('Graduate', inplace=True)\n",
    "x.major_discipline.fillna('STEM', inplace=True)\n",
    "test.major_discipline.fillna('STEM', inplace=True)\n",
    "\n",
    "x.experience = ['0' if n == '<1' else n for n in x.experience]\n",
    "test.experience = ['0' if n == '<1' else n for n in test.experience]\n",
    "x.experience = ['20' if n == '>20' else n for n in x.experience]\n",
    "test.experience = ['20' if n == '>20' else n for n in test.experience]\n",
    "x.experience.fillna('20', inplace=True)\n",
    "test.experience.fillna('20', inplace=True)\n",
    "\n",
    "x.company_size.fillna('50-99', inplace=True)\n",
    "test.company_size.fillna('50-99', inplace=True)\n",
    "x.company_type.fillna('Pvt Ltd', inplace=True)\n",
    "test.company_type.fillna('Pvt Ltd', inplace=True)\n",
    "\n",
    "x.last_new_job.fillna('1', inplace=True)\n",
    "test.last_new_job.fillna('1', inplace=True)\n"
   ]
  },
  {
   "cell_type": "code",
   "execution_count": 5,
   "id": "b1875892",
   "metadata": {
    "execution": {
     "iopub.execute_input": "2022-10-18T12:39:47.011701Z",
     "iopub.status.busy": "2022-10-18T12:39:47.011244Z",
     "iopub.status.idle": "2022-10-18T12:39:47.110744Z",
     "shell.execute_reply": "2022-10-18T12:39:47.109725Z"
    },
    "papermill": {
     "duration": 0.106873,
     "end_time": "2022-10-18T12:39:47.113203",
     "exception": false,
     "start_time": "2022-10-18T12:39:47.006330",
     "status": "completed"
    },
    "tags": []
   },
   "outputs": [],
   "source": [
    "# 범주형 데이터 실수화\n",
    "\n",
    "from sklearn.preprocessing import LabelEncoder\n",
    "\n",
    "def label_encode(train, test, columns):\n",
    "    for column in columns:\n",
    "        le = LabelEncoder()\n",
    "        le.fit(pd.concat([train[column], test[column]]).drop_duplicates())\n",
    "        train[column] = le.transform(train[column])\n",
    "        test[column] = le.transform(test[column])\n",
    "        \n",
    "label_encode(x, test, ['education_level', 'major_discipline', 'experience', 'company_size', 'company_type', 'last_new_job'])"
   ]
  },
  {
   "cell_type": "code",
   "execution_count": 6,
   "id": "db4c3bd1",
   "metadata": {
    "execution": {
     "iopub.execute_input": "2022-10-18T12:39:47.121116Z",
     "iopub.status.busy": "2022-10-18T12:39:47.120792Z",
     "iopub.status.idle": "2022-10-18T12:39:47.135842Z",
     "shell.execute_reply": "2022-10-18T12:39:47.134950Z"
    },
    "papermill": {
     "duration": 0.021473,
     "end_time": "2022-10-18T12:39:47.138090",
     "exception": false,
     "start_time": "2022-10-18T12:39:47.116617",
     "status": "completed"
    },
    "tags": []
   },
   "outputs": [],
   "source": [
    "# 데이터 정규화\n",
    "\n",
    "from sklearn.preprocessing import StandardScaler\n",
    "\n",
    "sc = StandardScaler()\n",
    "x = sc.fit_transform(x)\n",
    "test = sc.transform(test)"
   ]
  },
  {
   "cell_type": "code",
   "execution_count": 7,
   "id": "d97d9dc4",
   "metadata": {
    "execution": {
     "iopub.execute_input": "2022-10-18T12:39:47.145591Z",
     "iopub.status.busy": "2022-10-18T12:39:47.145237Z",
     "iopub.status.idle": "2022-10-18T12:39:50.135443Z",
     "shell.execute_reply": "2022-10-18T12:39:50.133447Z"
    },
    "papermill": {
     "duration": 2.999219,
     "end_time": "2022-10-18T12:39:50.140490",
     "exception": false,
     "start_time": "2022-10-18T12:39:47.141271",
     "status": "completed"
    },
    "tags": []
   },
   "outputs": [],
   "source": [
    "# torch tensor로 옮기기\n",
    "x_tensor = torch.FloatTensor(x).cuda()\n",
    "y_tensor = torch.LongTensor(y).cuda()\n",
    "test_tensor = torch.FloatTensor(test).cuda()"
   ]
  },
  {
   "cell_type": "code",
   "execution_count": 8,
   "id": "57872ac6",
   "metadata": {
    "execution": {
     "iopub.execute_input": "2022-10-18T12:39:50.156393Z",
     "iopub.status.busy": "2022-10-18T12:39:50.155939Z",
     "iopub.status.idle": "2022-10-18T12:39:50.234695Z",
     "shell.execute_reply": "2022-10-18T12:39:50.232521Z"
    },
    "papermill": {
     "duration": 0.09158,
     "end_time": "2022-10-18T12:39:50.240383",
     "exception": false,
     "start_time": "2022-10-18T12:39:50.148803",
     "status": "completed"
    },
    "tags": []
   },
   "outputs": [],
   "source": [
    "from sklearn.model_selection import train_test_split\n",
    "\n",
    "train_x, test_x, train_y, test_y = train_test_split(x_tensor, y_tensor, test_size=0.1, shuffle=True)"
   ]
  },
  {
   "cell_type": "code",
   "execution_count": 9,
   "id": "8edd3225",
   "metadata": {
    "execution": {
     "iopub.execute_input": "2022-10-18T12:39:50.253100Z",
     "iopub.status.busy": "2022-10-18T12:39:50.252507Z",
     "iopub.status.idle": "2022-10-18T12:39:50.271102Z",
     "shell.execute_reply": "2022-10-18T12:39:50.270061Z"
    },
    "papermill": {
     "duration": 0.027128,
     "end_time": "2022-10-18T12:39:50.273899",
     "exception": false,
     "start_time": "2022-10-18T12:39:50.246771",
     "status": "completed"
    },
    "tags": []
   },
   "outputs": [],
   "source": [
    "# 모델 설계\n",
    "layer1 = torch.nn.Linear(x_tensor.shape[1], 8).cuda()\n",
    "layer2 = torch.nn.Linear(8, 2).cuda()\n",
    "\n",
    "# 활성화 함수\n",
    "relu = torch.nn.ReLU()\n",
    "# Dropout\n",
    "dropout = torch.nn.Dropout(p=0.3)\n",
    "# Softmax\n",
    "softmax = torch.nn.Softmax(dim=1)\n",
    "\n",
    "# 레이어 init\n",
    "torch.nn.init.xavier_normal_(layer1.weight)\n",
    "torch.nn.init.xavier_normal_(layer2.weight)\n",
    "# torch.nn.init.xavier_normal_(layer3.weight)\n",
    "# torch.nn.init.xavier_normal_(layer4.weight)\n",
    "# torch.nn.init.xavier_normal_(layer5.weight)\n",
    "\n",
    "# 레이어 연결\n",
    "model = torch.nn.Sequential(\n",
    "    layer1, torch.nn.Sigmoid(),# dropout,\n",
    "#     layer2, relu, dropout,\n",
    "#     layer3, relu, dropout,    \n",
    "#     layer4, relu, dropout,    \n",
    "    layer2, softmax\n",
    ").cuda()\n",
    "\n",
    "#loss 함수 설정\n",
    "loss = torch.nn.CrossEntropyLoss().cuda()\n",
    "optimizer = torch.optim.Adam(model.parameters(), lr=0.0001)"
   ]
  },
  {
   "cell_type": "code",
   "execution_count": 10,
   "id": "7339f720",
   "metadata": {
    "execution": {
     "iopub.execute_input": "2022-10-18T12:39:50.285080Z",
     "iopub.status.busy": "2022-10-18T12:39:50.284626Z",
     "iopub.status.idle": "2022-10-18T12:40:12.160953Z",
     "shell.execute_reply": "2022-10-18T12:40:12.159849Z"
    },
    "papermill": {
     "duration": 21.8847,
     "end_time": "2022-10-18T12:40:12.163787",
     "exception": false,
     "start_time": "2022-10-18T12:39:50.279087",
     "status": "completed"
    },
    "tags": []
   },
   "outputs": [
    {
     "name": "stdout",
     "output_type": "stream",
     "text": [
      "0 0.8463623523712158 tensor(0.8593, device='cuda:0', grad_fn=<NllLossBackward0>)\n",
      "1000 0.6932202577590942 tensor(0.6946, device='cuda:0', grad_fn=<NllLossBackward0>)\n",
      "2000 0.611426591873169 tensor(0.6030, device='cuda:0', grad_fn=<NllLossBackward0>)\n",
      "3000 0.5805577039718628 tensor(0.5667, device='cuda:0', grad_fn=<NllLossBackward0>)\n",
      "4000 0.5668907165527344 tensor(0.5499, device='cuda:0', grad_fn=<NllLossBackward0>)\n",
      "5000 0.5590311884880066 tensor(0.5403, device='cuda:0', grad_fn=<NllLossBackward0>)\n",
      "6000 0.552862286567688 tensor(0.5333, device='cuda:0', grad_fn=<NllLossBackward0>)\n",
      "7000 0.5467850565910339 tensor(0.5271, device='cuda:0', grad_fn=<NllLossBackward0>)\n",
      "8000 0.5408726930618286 tensor(0.5214, device='cuda:0', grad_fn=<NllLossBackward0>)\n",
      "9000 0.5360369682312012 tensor(0.5171, device='cuda:0', grad_fn=<NllLossBackward0>)\n",
      "10000 0.5327128171920776 tensor(0.5144, device='cuda:0', grad_fn=<NllLossBackward0>)\n",
      "11000 0.5305232405662537 tensor(0.5128, device='cuda:0', grad_fn=<NllLossBackward0>)\n",
      "12000 0.5290551781654358 tensor(0.5120, device='cuda:0', grad_fn=<NllLossBackward0>)\n",
      "13000 0.5280163288116455 tensor(0.5117, device='cuda:0', grad_fn=<NllLossBackward0>)\n",
      "14000 0.5272397398948669 tensor(0.5116, device='cuda:0', grad_fn=<NllLossBackward0>)\n",
      "15000 0.5266184210777283 tensor(0.5116, device='cuda:0', grad_fn=<NllLossBackward0>)\n",
      "16000 0.52609783411026 tensor(0.5116, device='cuda:0', grad_fn=<NllLossBackward0>)\n",
      "17000 0.5255688428878784 tensor(0.5114, device='cuda:0', grad_fn=<NllLossBackward0>)\n",
      "18000 0.5249664783477783 tensor(0.5112, device='cuda:0', grad_fn=<NllLossBackward0>)\n",
      "19000 0.5244259238243103 tensor(0.5113, device='cuda:0', grad_fn=<NllLossBackward0>)\n"
     ]
    }
   ],
   "source": [
    "# 모델 학습\n",
    "model.train()\n",
    "epochs = 20000\n",
    "for epoch in range(epochs):\n",
    "    optimizer.zero_grad()\n",
    "    cost = loss(model(train_x), train_y)\n",
    "    cost.backward()\n",
    "    optimizer.step()\n",
    "    \n",
    "    if epoch % 1000 == 0:\n",
    "        model.eval()\n",
    "        print(epoch, cost.item(), loss(model(test_x), test_y))\n",
    "        model.train()"
   ]
  },
  {
   "cell_type": "code",
   "execution_count": 11,
   "id": "e424a897",
   "metadata": {
    "execution": {
     "iopub.execute_input": "2022-10-18T12:40:12.174583Z",
     "iopub.status.busy": "2022-10-18T12:40:12.174248Z",
     "iopub.status.idle": "2022-10-18T12:40:12.195921Z",
     "shell.execute_reply": "2022-10-18T12:40:12.194957Z"
    },
    "papermill": {
     "duration": 0.029959,
     "end_time": "2022-10-18T12:40:12.198644",
     "exception": false,
     "start_time": "2022-10-18T12:40:12.168685",
     "status": "completed"
    },
    "tags": []
   },
   "outputs": [],
   "source": [
    "# 정답 도출\n",
    "predict = model(test_tensor).cpu().argmax(dim=1)\n",
    "submit.target = [float(n) for n in predict.detach()]\n",
    "submit.to_csv('submission.csv', index=False)"
   ]
  }
 ],
 "metadata": {
  "kernelspec": {
   "display_name": "Python 3",
   "language": "python",
   "name": "python3"
  },
  "language_info": {
   "codemirror_mode": {
    "name": "ipython",
    "version": 3
   },
   "file_extension": ".py",
   "mimetype": "text/x-python",
   "name": "python",
   "nbconvert_exporter": "python",
   "pygments_lexer": "ipython3",
   "version": "3.7.12"
  },
  "papermill": {
   "default_parameters": {},
   "duration": 39.169777,
   "end_time": "2022-10-18T12:40:13.527143",
   "environment_variables": {},
   "exception": null,
   "input_path": "__notebook__.ipynb",
   "output_path": "__notebook__.ipynb",
   "parameters": {},
   "start_time": "2022-10-18T12:39:34.357366",
   "version": "2.3.4"
  }
 },
 "nbformat": 4,
 "nbformat_minor": 5
}
