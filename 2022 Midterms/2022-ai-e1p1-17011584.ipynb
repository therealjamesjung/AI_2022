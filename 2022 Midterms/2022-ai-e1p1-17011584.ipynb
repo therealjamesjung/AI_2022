{
 "cells": [
  {
   "cell_type": "code",
   "execution_count": 1,
   "id": "88b2f0d1",
   "metadata": {
    "_cell_guid": "b1076dfc-b9ad-4769-8c92-a6c4dae69d19",
    "_uuid": "8f2839f25d086af736a60e9eeb907d3b93b6e0e5",
    "execution": {
     "iopub.execute_input": "2022-10-18T13:00:10.288377Z",
     "iopub.status.busy": "2022-10-18T13:00:10.287862Z",
     "iopub.status.idle": "2022-10-18T13:00:12.146427Z",
     "shell.execute_reply": "2022-10-18T13:00:12.144945Z"
    },
    "papermill": {
     "duration": 1.866478,
     "end_time": "2022-10-18T13:00:12.149589",
     "exception": false,
     "start_time": "2022-10-18T13:00:10.283111",
     "status": "completed"
    },
    "tags": []
   },
   "outputs": [],
   "source": [
    "# 필요한 패키지 임포트\n",
    "import random\n",
    "import torch\n",
    "import pandas as pd\n",
    "import numpy as np\n",
    "\n",
    "# 랜덤시드 고정\n",
    "seed = 1\n",
    "random.seed(seed)\n",
    "np.random.seed(seed)\n",
    "torch.manual_seed(seed)\n",
    "if torch.cuda.is_available():\n",
    "    torch.cuda.manual_seed(seed)\n",
    "    torch.cuda.manual_seed_all(seed)\n",
    "torch.backends.cudnn.benchmark = False\n",
    "torch.backends.cudnn.deterministic = True"
   ]
  },
  {
   "cell_type": "code",
   "execution_count": 2,
   "id": "9bf262dd",
   "metadata": {
    "execution": {
     "iopub.execute_input": "2022-10-18T13:00:12.171898Z",
     "iopub.status.busy": "2022-10-18T13:00:12.171198Z",
     "iopub.status.idle": "2022-10-18T13:00:12.231901Z",
     "shell.execute_reply": "2022-10-18T13:00:12.230822Z"
    },
    "papermill": {
     "duration": 0.073056,
     "end_time": "2022-10-18T13:00:12.235798",
     "exception": false,
     "start_time": "2022-10-18T13:00:12.162742",
     "status": "completed"
    },
    "tags": []
   },
   "outputs": [],
   "source": [
    "# 데이터 로드\n",
    "train = pd.read_csv('../input/2022-ai-midterm-p1/train.csv')\n",
    "test = pd.read_csv('../input/2022-ai-midterm-p1/test.csv')\n",
    "submit = pd.read_csv('../input/2022-ai-midterm-p1/submit_sample.csv')"
   ]
  },
  {
   "cell_type": "code",
   "execution_count": 3,
   "id": "788786bf",
   "metadata": {
    "execution": {
     "iopub.execute_input": "2022-10-18T13:00:12.265791Z",
     "iopub.status.busy": "2022-10-18T13:00:12.265367Z",
     "iopub.status.idle": "2022-10-18T13:00:12.284253Z",
     "shell.execute_reply": "2022-10-18T13:00:12.283246Z"
    },
    "papermill": {
     "duration": 0.036654,
     "end_time": "2022-10-18T13:00:12.287367",
     "exception": false,
     "start_time": "2022-10-18T13:00:12.250713",
     "status": "completed"
    },
    "tags": []
   },
   "outputs": [],
   "source": [
    "# 필요없는 column drop 및 정답 라벨 분리\n",
    "y = train.drop('index', axis=1).label\n",
    "test = test.drop('index', axis=1)\n",
    "x = train.drop(['index', 'label'], axis=1)"
   ]
  },
  {
   "cell_type": "code",
   "execution_count": 4,
   "id": "70a981b4",
   "metadata": {
    "execution": {
     "iopub.execute_input": "2022-10-18T13:00:12.318901Z",
     "iopub.status.busy": "2022-10-18T13:00:12.318511Z",
     "iopub.status.idle": "2022-10-18T13:00:15.593297Z",
     "shell.execute_reply": "2022-10-18T13:00:15.592245Z"
    },
    "papermill": {
     "duration": 3.289087,
     "end_time": "2022-10-18T13:00:15.595806",
     "exception": false,
     "start_time": "2022-10-18T13:00:12.306719",
     "status": "completed"
    },
    "tags": []
   },
   "outputs": [],
   "source": [
    "# torch tensor로 옮기기\n",
    "x_tensor = torch.FloatTensor(x.to_numpy()).cuda()\n",
    "y_tensor = torch.LongTensor(y).cuda()\n",
    "test_tensor = torch.FloatTensor(test.to_numpy()).cuda()"
   ]
  },
  {
   "cell_type": "code",
   "execution_count": 5,
   "id": "d30704a9",
   "metadata": {
    "execution": {
     "iopub.execute_input": "2022-10-18T13:00:15.603990Z",
     "iopub.status.busy": "2022-10-18T13:00:15.603639Z",
     "iopub.status.idle": "2022-10-18T13:00:15.628567Z",
     "shell.execute_reply": "2022-10-18T13:00:15.627650Z"
    },
    "papermill": {
     "duration": 0.031121,
     "end_time": "2022-10-18T13:00:15.631088",
     "exception": false,
     "start_time": "2022-10-18T13:00:15.599967",
     "status": "completed"
    },
    "tags": []
   },
   "outputs": [],
   "source": [
    "# 모델 설계\n",
    "layer1 = torch.nn.Linear(x_tensor.shape[1], 512).cuda()\n",
    "layer2 = torch.nn.Linear(512, 512).cuda()\n",
    "layer3 = torch.nn.Linear(512, 1024).cuda()\n",
    "layer4 = torch.nn.Linear(1024, 10).cuda()\n",
    "\n",
    "# 활성화 함수\n",
    "relu = torch.nn.ReLU()\n",
    "# Dropout\n",
    "dropout = torch.nn.Dropout(p=0.3)\n",
    "\n",
    "# 레이어 init\n",
    "torch.nn.init.xavier_normal_(layer1.weight)\n",
    "torch.nn.init.xavier_normal_(layer2.weight)\n",
    "torch.nn.init.xavier_normal_(layer3.weight)\n",
    "torch.nn.init.xavier_normal_(layer4.weight)\n",
    "\n",
    "# 레이어 연결\n",
    "model = torch.nn.Sequential(\n",
    "    layer1, relu, dropout,\n",
    "    layer2, relu, dropout,\n",
    "    layer3, relu, dropout,    \n",
    "    layer4\n",
    ").cuda()\n",
    "\n",
    "#loss 함수 설정\n",
    "loss = torch.nn.CrossEntropyLoss().cuda()\n",
    "optimizer = torch.optim.Adam(model.parameters(), lr=0.0001)"
   ]
  },
  {
   "cell_type": "code",
   "execution_count": 6,
   "id": "28554bff",
   "metadata": {
    "execution": {
     "iopub.execute_input": "2022-10-18T13:00:15.636873Z",
     "iopub.status.busy": "2022-10-18T13:00:15.636573Z",
     "iopub.status.idle": "2022-10-18T13:00:41.074166Z",
     "shell.execute_reply": "2022-10-18T13:00:41.073176Z"
    },
    "papermill": {
     "duration": 25.44337,
     "end_time": "2022-10-18T13:00:41.076821",
     "exception": false,
     "start_time": "2022-10-18T13:00:15.633451",
     "status": "completed"
    },
    "tags": []
   },
   "outputs": [
    {
     "name": "stdout",
     "output_type": "stream",
     "text": [
      "0 4.346856594085693\n",
      "1000 0.009221653454005718\n",
      "2000 0.0008067984599620104\n",
      "3000 0.00024503047461621463\n",
      "4000 0.00014635061961598694\n",
      "5000 4.2977902921848e-05\n",
      "6000 1.2174992662039585e-05\n",
      "7000 0.00035509539884515107\n",
      "8000 1.3445119293464813e-05\n",
      "9000 0.00010253094660583884\n",
      "10000 4.097610144526698e-06\n",
      "11000 1.8893548485721112e-06\n",
      "12000 1.949435863934923e-05\n"
     ]
    }
   ],
   "source": [
    "# 모델 학습\n",
    "epochs = 12345\n",
    "for epoch in range(epochs):\n",
    "    optimizer.zero_grad()\n",
    "    cost = loss(model(x_tensor), y_tensor)\n",
    "    cost.backward()\n",
    "    optimizer.step()\n",
    "    \n",
    "    if epoch % 1000 == 0:\n",
    "        print(epoch, cost.item())"
   ]
  },
  {
   "cell_type": "code",
   "execution_count": 7,
   "id": "87e929b5",
   "metadata": {
    "execution": {
     "iopub.execute_input": "2022-10-18T13:00:41.084275Z",
     "iopub.status.busy": "2022-10-18T13:00:41.083954Z",
     "iopub.status.idle": "2022-10-18T13:00:41.095641Z",
     "shell.execute_reply": "2022-10-18T13:00:41.094761Z"
    },
    "papermill": {
     "duration": 0.017753,
     "end_time": "2022-10-18T13:00:41.097686",
     "exception": false,
     "start_time": "2022-10-18T13:00:41.079933",
     "status": "completed"
    },
    "tags": []
   },
   "outputs": [],
   "source": [
    "# 정답 도출\n",
    "predict = model(test_tensor).cpu().argmax(dim=1)\n",
    "submit.label = predict.detach()\n",
    "submit.to_csv('submission.csv', index=False)"
   ]
  }
 ],
 "metadata": {
  "kernelspec": {
   "display_name": "Python 3",
   "language": "python",
   "name": "python3"
  },
  "language_info": {
   "codemirror_mode": {
    "name": "ipython",
    "version": 3
   },
   "file_extension": ".py",
   "mimetype": "text/x-python",
   "name": "python",
   "nbconvert_exporter": "python",
   "pygments_lexer": "ipython3",
   "version": "3.7.12"
  },
  "papermill": {
   "default_parameters": {},
   "duration": 39.827759,
   "end_time": "2022-10-18T13:00:42.222144",
   "environment_variables": {},
   "exception": null,
   "input_path": "__notebook__.ipynb",
   "output_path": "__notebook__.ipynb",
   "parameters": {},
   "start_time": "2022-10-18T13:00:02.394385",
   "version": "2.3.4"
  }
 },
 "nbformat": 4,
 "nbformat_minor": 5
}
