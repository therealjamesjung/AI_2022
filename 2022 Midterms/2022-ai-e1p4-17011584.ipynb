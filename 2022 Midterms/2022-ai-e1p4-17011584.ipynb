{
 "cells": [
  {
   "cell_type": "code",
   "execution_count": 1,
   "id": "095c58b0",
   "metadata": {
    "_cell_guid": "b1076dfc-b9ad-4769-8c92-a6c4dae69d19",
    "_uuid": "8f2839f25d086af736a60e9eeb907d3b93b6e0e5",
    "execution": {
     "iopub.execute_input": "2022-10-18T12:46:50.585235Z",
     "iopub.status.busy": "2022-10-18T12:46:50.584483Z",
     "iopub.status.idle": "2022-10-18T12:46:52.584589Z",
     "shell.execute_reply": "2022-10-18T12:46:52.583340Z"
    },
    "papermill": {
     "duration": 2.010364,
     "end_time": "2022-10-18T12:46:52.588090",
     "exception": false,
     "start_time": "2022-10-18T12:46:50.577726",
     "status": "completed"
    },
    "tags": []
   },
   "outputs": [],
   "source": [
    "# 필요한 패키지 임포트\n",
    "import random\n",
    "import torch\n",
    "import pandas as pd\n",
    "import numpy as np\n",
    "\n",
    "# 랜덤시드 고정\n",
    "seed = 1\n",
    "random.seed(seed)\n",
    "np.random.seed(seed)\n",
    "torch.manual_seed(seed)\n",
    "if torch.cuda.is_available():\n",
    "    torch.cuda.manual_seed(seed)\n",
    "    torch.cuda.manual_seed_all(seed)\n",
    "torch.backends.cudnn.benchmark = False\n",
    "torch.backends.cudnn.deterministic = True"
   ]
  },
  {
   "cell_type": "code",
   "execution_count": 2,
   "id": "0c77078e",
   "metadata": {
    "execution": {
     "iopub.execute_input": "2022-10-18T12:46:52.597215Z",
     "iopub.status.busy": "2022-10-18T12:46:52.596561Z",
     "iopub.status.idle": "2022-10-18T12:46:52.629490Z",
     "shell.execute_reply": "2022-10-18T12:46:52.628200Z"
    },
    "papermill": {
     "duration": 0.040445,
     "end_time": "2022-10-18T12:46:52.632258",
     "exception": false,
     "start_time": "2022-10-18T12:46:52.591813",
     "status": "completed"
    },
    "tags": []
   },
   "outputs": [],
   "source": [
    "# 데이터 로드\n",
    "train = pd.read_csv('../input/2022-ai-midterm-p4/train.csv')\n",
    "test = pd.read_csv('../input/2022-ai-midterm-p4/test.csv')\n",
    "submit = pd.read_csv('../input/2022-ai-midterm-p4/submit_sample.csv')"
   ]
  },
  {
   "cell_type": "code",
   "execution_count": 3,
   "id": "96829cbd",
   "metadata": {
    "execution": {
     "iopub.execute_input": "2022-10-18T12:46:52.641306Z",
     "iopub.status.busy": "2022-10-18T12:46:52.640502Z",
     "iopub.status.idle": "2022-10-18T12:46:52.663401Z",
     "shell.execute_reply": "2022-10-18T12:46:52.662038Z"
    },
    "papermill": {
     "duration": 0.03059,
     "end_time": "2022-10-18T12:46:52.666147",
     "exception": false,
     "start_time": "2022-10-18T12:46:52.635557",
     "status": "completed"
    },
    "tags": []
   },
   "outputs": [],
   "source": [
    "# 필요없는 column drop 및 정답 라벨 분리\n",
    "y = train.drop('id', axis=1)['count']\n",
    "test = test.drop('id', axis=1)\n",
    "x = train.drop(['id', 'count'], axis=1)"
   ]
  },
  {
   "cell_type": "code",
   "execution_count": 4,
   "id": "48254e75",
   "metadata": {
    "execution": {
     "iopub.execute_input": "2022-10-18T12:46:52.675044Z",
     "iopub.status.busy": "2022-10-18T12:46:52.674586Z",
     "iopub.status.idle": "2022-10-18T12:46:53.694455Z",
     "shell.execute_reply": "2022-10-18T12:46:53.693517Z"
    },
    "papermill": {
     "duration": 1.027418,
     "end_time": "2022-10-18T12:46:53.697067",
     "exception": false,
     "start_time": "2022-10-18T12:46:52.669649",
     "status": "completed"
    },
    "tags": []
   },
   "outputs": [],
   "source": [
    "# 데이터 정규화\n",
    "\n",
    "from sklearn.preprocessing import StandardScaler\n",
    "\n",
    "sc = StandardScaler()\n",
    "x = sc.fit_transform(x)\n",
    "test = sc.transform(test)"
   ]
  },
  {
   "cell_type": "code",
   "execution_count": 5,
   "id": "270df0bf",
   "metadata": {
    "execution": {
     "iopub.execute_input": "2022-10-18T12:46:53.705891Z",
     "iopub.status.busy": "2022-10-18T12:46:53.704507Z",
     "iopub.status.idle": "2022-10-18T12:46:53.712319Z",
     "shell.execute_reply": "2022-10-18T12:46:53.711007Z"
    },
    "papermill": {
     "duration": 0.014664,
     "end_time": "2022-10-18T12:46:53.714981",
     "exception": false,
     "start_time": "2022-10-18T12:46:53.700317",
     "status": "completed"
    },
    "tags": []
   },
   "outputs": [],
   "source": [
    "# torch tensor로 옮기기\n",
    "x_tensor = torch.FloatTensor(x)\n",
    "y_tensor = torch.FloatTensor(y).reshape(-1, 1)\n",
    "test_tensor = torch.FloatTensor(test)"
   ]
  },
  {
   "cell_type": "code",
   "execution_count": 6,
   "id": "106e4af9",
   "metadata": {
    "execution": {
     "iopub.execute_input": "2022-10-18T12:46:53.722670Z",
     "iopub.status.busy": "2022-10-18T12:46:53.722203Z",
     "iopub.status.idle": "2022-10-18T12:46:53.734032Z",
     "shell.execute_reply": "2022-10-18T12:46:53.733006Z"
    },
    "papermill": {
     "duration": 0.018784,
     "end_time": "2022-10-18T12:46:53.736762",
     "exception": false,
     "start_time": "2022-10-18T12:46:53.717978",
     "status": "completed"
    },
    "tags": []
   },
   "outputs": [],
   "source": [
    "# 모델 설계\n",
    "layer1 = torch.nn.Linear(x_tensor.shape[1], 16)\n",
    "layer2 = torch.nn.Linear(16, 16)\n",
    "layer3 = torch.nn.Linear(16, 1)\n",
    "\n",
    "# 활성화 함수\n",
    "sigmoid = torch.nn.Sigmoid()\n",
    "\n",
    "# 레이어 연결\n",
    "model = torch.nn.Sequential(\n",
    "    layer1, sigmoid,\n",
    "    layer2, sigmoid,\n",
    "    layer3\n",
    ")\n",
    "\n",
    "#loss 함수 설정\n",
    "loss = torch.nn.MSELoss()\n",
    "optimizer = torch.optim.Adam(model.parameters(), lr=0.001)"
   ]
  },
  {
   "cell_type": "code",
   "execution_count": 7,
   "id": "e1c45e7d",
   "metadata": {
    "execution": {
     "iopub.execute_input": "2022-10-18T12:46:53.745773Z",
     "iopub.status.busy": "2022-10-18T12:46:53.745164Z",
     "iopub.status.idle": "2022-10-18T12:47:04.503795Z",
     "shell.execute_reply": "2022-10-18T12:47:04.502491Z"
    },
    "papermill": {
     "duration": 10.766847,
     "end_time": "2022-10-18T12:47:04.506962",
     "exception": false,
     "start_time": "2022-10-18T12:46:53.740115",
     "status": "completed"
    },
    "tags": []
   },
   "outputs": [
    {
     "name": "stdout",
     "output_type": "stream",
     "text": [
      "0 19245.447265625\n",
      "1000 15485.68359375\n",
      "2000 12764.0146484375\n",
      "3000 10638.857421875\n",
      "4000 8833.7060546875\n",
      "5000 7328.990234375\n",
      "6000 6155.0810546875\n",
      "7000 5238.84130859375\n",
      "8000 4428.708984375\n",
      "9000 3916.2783203125\n"
     ]
    }
   ],
   "source": [
    "# 모델 학습\n",
    "epochs = 10000\n",
    "for epoch in range(epochs):\n",
    "    optimizer.zero_grad()\n",
    "    cost = loss(model(x_tensor), y_tensor)\n",
    "    cost.backward()\n",
    "    optimizer.step()\n",
    "    \n",
    "    if epoch % 1000 == 0:\n",
    "        print(epoch, cost.item())"
   ]
  },
  {
   "cell_type": "code",
   "execution_count": 8,
   "id": "3342d639",
   "metadata": {
    "execution": {
     "iopub.execute_input": "2022-10-18T12:47:04.516379Z",
     "iopub.status.busy": "2022-10-18T12:47:04.515919Z",
     "iopub.status.idle": "2022-10-18T12:47:04.528241Z",
     "shell.execute_reply": "2022-10-18T12:47:04.527091Z"
    },
    "papermill": {
     "duration": 0.020217,
     "end_time": "2022-10-18T12:47:04.531266",
     "exception": false,
     "start_time": "2022-10-18T12:47:04.511049",
     "status": "completed"
    },
    "tags": []
   },
   "outputs": [],
   "source": [
    "# 정답 도출\n",
    "predict = model(test_tensor).cpu()\n",
    "submit['count'] = predict.detach()\n",
    "submit.to_csv('submission.csv', index=False)"
   ]
  }
 ],
 "metadata": {
  "kernelspec": {
   "display_name": "Python 3",
   "language": "python",
   "name": "python3"
  },
  "language_info": {
   "codemirror_mode": {
    "name": "ipython",
    "version": 3
   },
   "file_extension": ".py",
   "mimetype": "text/x-python",
   "name": "python",
   "nbconvert_exporter": "python",
   "pygments_lexer": "ipython3",
   "version": "3.7.12"
  },
  "papermill": {
   "default_parameters": {},
   "duration": 24.5113,
   "end_time": "2022-10-18T12:47:05.459623",
   "environment_variables": {},
   "exception": null,
   "input_path": "__notebook__.ipynb",
   "output_path": "__notebook__.ipynb",
   "parameters": {},
   "start_time": "2022-10-18T12:46:40.948323",
   "version": "2.3.4"
  }
 },
 "nbformat": 4,
 "nbformat_minor": 5
}
