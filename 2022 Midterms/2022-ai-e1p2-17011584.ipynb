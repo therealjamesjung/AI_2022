{
 "cells": [
  {
   "cell_type": "code",
   "execution_count": 1,
   "id": "467c7220",
   "metadata": {
    "_cell_guid": "b1076dfc-b9ad-4769-8c92-a6c4dae69d19",
    "_uuid": "8f2839f25d086af736a60e9eeb907d3b93b6e0e5",
    "execution": {
     "iopub.execute_input": "2022-10-18T10:56:39.969603Z",
     "iopub.status.busy": "2022-10-18T10:56:39.969130Z",
     "iopub.status.idle": "2022-10-18T10:56:41.857081Z",
     "shell.execute_reply": "2022-10-18T10:56:41.855716Z"
    },
    "papermill": {
     "duration": 1.896839,
     "end_time": "2022-10-18T10:56:41.860004",
     "exception": false,
     "start_time": "2022-10-18T10:56:39.963165",
     "status": "completed"
    },
    "tags": []
   },
   "outputs": [],
   "source": [
    "# 필요한 패키지 임포트\n",
    "import random\n",
    "import torch\n",
    "import pandas as pd\n",
    "import numpy as np\n",
    "\n",
    "# 랜덤시드 고정\n",
    "seed = 1\n",
    "random.seed(seed)\n",
    "np.random.seed(seed)\n",
    "torch.manual_seed(seed)\n",
    "if torch.cuda.is_available():\n",
    "    torch.cuda.manual_seed(seed)\n",
    "    torch.cuda.manual_seed_all(seed)\n",
    "torch.backends.cudnn.benchmark = False\n",
    "torch.backends.cudnn.deterministic = True"
   ]
  },
  {
   "cell_type": "code",
   "execution_count": 2,
   "id": "75f37cd9",
   "metadata": {
    "execution": {
     "iopub.execute_input": "2022-10-18T10:56:41.868359Z",
     "iopub.status.busy": "2022-10-18T10:56:41.867739Z",
     "iopub.status.idle": "2022-10-18T10:56:41.899579Z",
     "shell.execute_reply": "2022-10-18T10:56:41.898174Z"
    },
    "papermill": {
     "duration": 0.039094,
     "end_time": "2022-10-18T10:56:41.902423",
     "exception": false,
     "start_time": "2022-10-18T10:56:41.863329",
     "status": "completed"
    },
    "tags": []
   },
   "outputs": [],
   "source": [
    "# 데이터 로드\n",
    "train = pd.read_csv('../input/2022-ai-midterm-p2/train.csv')\n",
    "test = pd.read_csv('../input/2022-ai-midterm-p2/test.csv')\n",
    "submit = pd.read_csv('../input/2022-ai-midterm-p2/submit_sample.csv')"
   ]
  },
  {
   "cell_type": "code",
   "execution_count": 3,
   "id": "b33d1bda",
   "metadata": {
    "execution": {
     "iopub.execute_input": "2022-10-18T10:56:41.910566Z",
     "iopub.status.busy": "2022-10-18T10:56:41.910142Z",
     "iopub.status.idle": "2022-10-18T10:56:41.927602Z",
     "shell.execute_reply": "2022-10-18T10:56:41.926204Z"
    },
    "papermill": {
     "duration": 0.024267,
     "end_time": "2022-10-18T10:56:41.930026",
     "exception": false,
     "start_time": "2022-10-18T10:56:41.905759",
     "status": "completed"
    },
    "tags": []
   },
   "outputs": [],
   "source": [
    "# 필요없는 column drop 및 정답 라벨 분리\n",
    "y = train.drop('ID', axis=1).MEDV\n",
    "test = test.drop('ID', axis=1)\n",
    "x = train.drop(['ID', 'MEDV'], axis=1)"
   ]
  },
  {
   "cell_type": "code",
   "execution_count": 4,
   "id": "1557e86b",
   "metadata": {
    "execution": {
     "iopub.execute_input": "2022-10-18T10:56:41.937510Z",
     "iopub.status.busy": "2022-10-18T10:56:41.937117Z",
     "iopub.status.idle": "2022-10-18T10:56:42.823732Z",
     "shell.execute_reply": "2022-10-18T10:56:42.822441Z"
    },
    "papermill": {
     "duration": 0.89395,
     "end_time": "2022-10-18T10:56:42.827046",
     "exception": false,
     "start_time": "2022-10-18T10:56:41.933096",
     "status": "completed"
    },
    "tags": []
   },
   "outputs": [],
   "source": [
    "# 데이터 정규화\n",
    "\n",
    "from sklearn.preprocessing import StandardScaler\n",
    "\n",
    "sc = StandardScaler()\n",
    "x = sc.fit_transform(x)\n",
    "test = sc.transform(test)"
   ]
  },
  {
   "cell_type": "code",
   "execution_count": 5,
   "id": "cd6c886f",
   "metadata": {
    "execution": {
     "iopub.execute_input": "2022-10-18T10:56:42.835571Z",
     "iopub.status.busy": "2022-10-18T10:56:42.834556Z",
     "iopub.status.idle": "2022-10-18T10:56:42.840878Z",
     "shell.execute_reply": "2022-10-18T10:56:42.839856Z"
    },
    "papermill": {
     "duration": 0.013179,
     "end_time": "2022-10-18T10:56:42.843372",
     "exception": false,
     "start_time": "2022-10-18T10:56:42.830193",
     "status": "completed"
    },
    "tags": []
   },
   "outputs": [],
   "source": [
    "# torch tensor로 옮기기\n",
    "x_tensor = torch.FloatTensor(x)\n",
    "y_tensor = torch.FloatTensor(y).reshape(-1, 1)\n",
    "test_tensor = torch.FloatTensor(test)"
   ]
  },
  {
   "cell_type": "code",
   "execution_count": 6,
   "id": "0cff2165",
   "metadata": {
    "execution": {
     "iopub.execute_input": "2022-10-18T10:56:42.851801Z",
     "iopub.status.busy": "2022-10-18T10:56:42.850533Z",
     "iopub.status.idle": "2022-10-18T10:56:42.864271Z",
     "shell.execute_reply": "2022-10-18T10:56:42.863213Z"
    },
    "papermill": {
     "duration": 0.020936,
     "end_time": "2022-10-18T10:56:42.867378",
     "exception": false,
     "start_time": "2022-10-18T10:56:42.846442",
     "status": "completed"
    },
    "tags": []
   },
   "outputs": [],
   "source": [
    "# 모델 설계\n",
    "layer1 = torch.nn.Linear(x_tensor.shape[1], 32)\n",
    "layer2 = torch.nn.Linear(32, 16)\n",
    "layer3 = torch.nn.Linear(16, 1)\n",
    "\n",
    "# 활성화 함수\n",
    "sigmoid = torch.nn.Sigmoid()\n",
    "\n",
    "# 레이어 연결\n",
    "model = torch.nn.Sequential(\n",
    "    layer1, sigmoid,\n",
    "    layer2, sigmoid,\n",
    "    layer3\n",
    ")\n",
    "\n",
    "#loss 함수 설정\n",
    "loss = torch.nn.MSELoss()\n",
    "optimizer = torch.optim.Adam(model.parameters(), lr=0.001)"
   ]
  },
  {
   "cell_type": "code",
   "execution_count": 7,
   "id": "1391d2b2",
   "metadata": {
    "execution": {
     "iopub.execute_input": "2022-10-18T10:56:42.877883Z",
     "iopub.status.busy": "2022-10-18T10:56:42.876590Z",
     "iopub.status.idle": "2022-10-18T10:56:47.626429Z",
     "shell.execute_reply": "2022-10-18T10:56:47.625293Z"
    },
    "papermill": {
     "duration": 4.758383,
     "end_time": "2022-10-18T10:56:47.629222",
     "exception": false,
     "start_time": "2022-10-18T10:56:42.870839",
     "status": "completed"
    },
    "tags": []
   },
   "outputs": [
    {
     "name": "stdout",
     "output_type": "stream",
     "text": [
      "0 570.6197509765625\n",
      "1000 130.9151611328125\n",
      "2000 54.572486877441406\n",
      "3000 33.389015197753906\n",
      "4000 17.681982040405273\n"
     ]
    }
   ],
   "source": [
    "# 모델 학습\n",
    "epochs = 5000\n",
    "for epoch in range(epochs):\n",
    "    optimizer.zero_grad()\n",
    "    cost = loss(model(x_tensor), y_tensor)\n",
    "    cost.backward()\n",
    "    optimizer.step()\n",
    "    \n",
    "    if epoch % 1000 == 0:\n",
    "        print(epoch, cost.item())"
   ]
  },
  {
   "cell_type": "code",
   "execution_count": 8,
   "id": "a0f0853b",
   "metadata": {
    "execution": {
     "iopub.execute_input": "2022-10-18T10:56:47.638649Z",
     "iopub.status.busy": "2022-10-18T10:56:47.637436Z",
     "iopub.status.idle": "2022-10-18T10:56:47.648345Z",
     "shell.execute_reply": "2022-10-18T10:56:47.647174Z"
    },
    "papermill": {
     "duration": 0.018526,
     "end_time": "2022-10-18T10:56:47.651349",
     "exception": false,
     "start_time": "2022-10-18T10:56:47.632823",
     "status": "completed"
    },
    "tags": []
   },
   "outputs": [],
   "source": [
    "# 정답 도출\n",
    "predict = model(test_tensor).cpu()\n",
    "submit.MEDV = predict.detach()\n",
    "submit.to_csv('submission.csv', index=False)"
   ]
  }
 ],
 "metadata": {
  "kernelspec": {
   "display_name": "Python 3",
   "language": "python",
   "name": "python3"
  },
  "language_info": {
   "codemirror_mode": {
    "name": "ipython",
    "version": 3
   },
   "file_extension": ".py",
   "mimetype": "text/x-python",
   "name": "python",
   "nbconvert_exporter": "python",
   "pygments_lexer": "ipython3",
   "version": "3.7.12"
  },
  "papermill": {
   "default_parameters": {},
   "duration": 18.508805,
   "end_time": "2022-10-18T10:56:48.580493",
   "environment_variables": {},
   "exception": null,
   "input_path": "__notebook__.ipynb",
   "output_path": "__notebook__.ipynb",
   "parameters": {},
   "start_time": "2022-10-18T10:56:30.071688",
   "version": "2.3.4"
  }
 },
 "nbformat": 4,
 "nbformat_minor": 5
}
