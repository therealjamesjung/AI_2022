{
 "cells": [
  {
   "cell_type": "code",
   "execution_count": 1,
   "id": "afa42bfe",
   "metadata": {
    "_cell_guid": "b1076dfc-b9ad-4769-8c92-a6c4dae69d19",
    "_uuid": "8f2839f25d086af736a60e9eeb907d3b93b6e0e5",
    "execution": {
     "iopub.execute_input": "2022-10-18T11:43:36.813645Z",
     "iopub.status.busy": "2022-10-18T11:43:36.813230Z",
     "iopub.status.idle": "2022-10-18T11:43:41.029833Z",
     "shell.execute_reply": "2022-10-18T11:43:41.028551Z"
    },
    "papermill": {
     "duration": 4.225374,
     "end_time": "2022-10-18T11:43:41.032731",
     "exception": false,
     "start_time": "2022-10-18T11:43:36.807357",
     "status": "completed"
    },
    "tags": []
   },
   "outputs": [],
   "source": [
    "# 필요한 패키지 임포트\n",
    "import random\n",
    "import torch\n",
    "import pandas as pd\n",
    "import numpy as np\n",
    "import pandas_profiling\n",
    "\n",
    "# 랜덤시드 고정\n",
    "seed = 1\n",
    "random.seed(seed)\n",
    "np.random.seed(seed)\n",
    "torch.manual_seed(seed)\n",
    "if torch.cuda.is_available():\n",
    "    torch.cuda.manual_seed(seed)\n",
    "    torch.cuda.manual_seed_all(seed)\n",
    "torch.backends.cudnn.benchmark = False\n",
    "torch.backends.cudnn.deterministic = True"
   ]
  },
  {
   "cell_type": "code",
   "execution_count": 2,
   "id": "bdd1b43d",
   "metadata": {
    "execution": {
     "iopub.execute_input": "2022-10-18T11:43:41.042054Z",
     "iopub.status.busy": "2022-10-18T11:43:41.041048Z",
     "iopub.status.idle": "2022-10-18T11:43:41.065795Z",
     "shell.execute_reply": "2022-10-18T11:43:41.064732Z"
    },
    "papermill": {
     "duration": 0.031531,
     "end_time": "2022-10-18T11:43:41.068227",
     "exception": false,
     "start_time": "2022-10-18T11:43:41.036696",
     "status": "completed"
    },
    "tags": []
   },
   "outputs": [],
   "source": [
    "# 데이터 로드\n",
    "train = pd.read_csv('../input/2022-ai-midterm-p3/train.csv')\n",
    "test = pd.read_csv('../input/2022-ai-midterm-p3/test.csv')\n",
    "submit = pd.read_csv('../input/2022-ai-midterm-p3/submit_sample.csv')"
   ]
  },
  {
   "cell_type": "code",
   "execution_count": 3,
   "id": "0d021332",
   "metadata": {
    "execution": {
     "iopub.execute_input": "2022-10-18T11:43:41.076619Z",
     "iopub.status.busy": "2022-10-18T11:43:41.076305Z",
     "iopub.status.idle": "2022-10-18T11:43:41.092967Z",
     "shell.execute_reply": "2022-10-18T11:43:41.091962Z"
    },
    "papermill": {
     "duration": 0.023337,
     "end_time": "2022-10-18T11:43:41.095079",
     "exception": false,
     "start_time": "2022-10-18T11:43:41.071742",
     "status": "completed"
    },
    "tags": []
   },
   "outputs": [],
   "source": [
    "# 필요없는 column drop 및 정답 라벨 분리\n",
    "y = train.drop('index', axis=1).target\n",
    "test = test.drop('index', axis=1)\n",
    "x = train.drop(['index', 'target'], axis=1)"
   ]
  },
  {
   "cell_type": "code",
   "execution_count": 4,
   "id": "852edcbb",
   "metadata": {
    "execution": {
     "iopub.execute_input": "2022-10-18T11:43:41.102759Z",
     "iopub.status.busy": "2022-10-18T11:43:41.102470Z",
     "iopub.status.idle": "2022-10-18T11:43:41.107400Z",
     "shell.execute_reply": "2022-10-18T11:43:41.106298Z"
    },
    "papermill": {
     "duration": 0.010988,
     "end_time": "2022-10-18T11:43:41.109433",
     "exception": false,
     "start_time": "2022-10-18T11:43:41.098445",
     "status": "completed"
    },
    "tags": []
   },
   "outputs": [],
   "source": [
    "# 심장병 여부를 0 or 1로 전처리\n",
    "y = pd.Series([0 if n == 0 else 1 for n in y])"
   ]
  },
  {
   "cell_type": "code",
   "execution_count": 5,
   "id": "7b13c9c1",
   "metadata": {
    "execution": {
     "iopub.execute_input": "2022-10-18T11:43:41.116833Z",
     "iopub.status.busy": "2022-10-18T11:43:41.116523Z",
     "iopub.status.idle": "2022-10-18T11:43:41.125349Z",
     "shell.execute_reply": "2022-10-18T11:43:41.124412Z"
    },
    "papermill": {
     "duration": 0.014839,
     "end_time": "2022-10-18T11:43:41.127420",
     "exception": false,
     "start_time": "2022-10-18T11:43:41.112581",
     "status": "completed"
    },
    "tags": []
   },
   "outputs": [],
   "source": [
    "# ? 값 처리\n",
    "x.ca = pd.Series([0 if n == '?' else int(n) for n in x.ca])\n",
    "x.thal = pd.Series([3 if n == '?' else int(n) for n in x.thal])\n",
    "test.ca = pd.Series([0 if n == '?' else int(n) for n in test.ca])\n",
    "test.thal = pd.Series([3 if n == '?' else int(n) for n in test.thal])"
   ]
  },
  {
   "cell_type": "code",
   "execution_count": 6,
   "id": "ff8b0324",
   "metadata": {
    "execution": {
     "iopub.execute_input": "2022-10-18T11:43:41.134712Z",
     "iopub.status.busy": "2022-10-18T11:43:41.134363Z",
     "iopub.status.idle": "2022-10-18T11:43:41.213706Z",
     "shell.execute_reply": "2022-10-18T11:43:41.212916Z"
    },
    "papermill": {
     "duration": 0.085678,
     "end_time": "2022-10-18T11:43:41.216055",
     "exception": false,
     "start_time": "2022-10-18T11:43:41.130377",
     "status": "completed"
    },
    "tags": []
   },
   "outputs": [],
   "source": [
    "# 데이터 정규화\n",
    "\n",
    "from sklearn.preprocessing import StandardScaler\n",
    "\n",
    "sc = StandardScaler()\n",
    "x = sc.fit_transform(x)\n",
    "test = sc.transform(test)"
   ]
  },
  {
   "cell_type": "code",
   "execution_count": 7,
   "id": "5ec3cefd",
   "metadata": {
    "execution": {
     "iopub.execute_input": "2022-10-18T11:43:41.224340Z",
     "iopub.status.busy": "2022-10-18T11:43:41.223493Z",
     "iopub.status.idle": "2022-10-18T11:43:41.229764Z",
     "shell.execute_reply": "2022-10-18T11:43:41.228640Z"
    },
    "papermill": {
     "duration": 0.012742,
     "end_time": "2022-10-18T11:43:41.232029",
     "exception": false,
     "start_time": "2022-10-18T11:43:41.219287",
     "status": "completed"
    },
    "tags": []
   },
   "outputs": [],
   "source": [
    "# torch tensor로 옮기기\n",
    "x_tensor = torch.FloatTensor(x)\n",
    "y_tensor = torch.LongTensor(y)\n",
    "test_tensor = torch.FloatTensor(test)"
   ]
  },
  {
   "cell_type": "code",
   "execution_count": 8,
   "id": "97417b9e",
   "metadata": {
    "execution": {
     "iopub.execute_input": "2022-10-18T11:43:41.239416Z",
     "iopub.status.busy": "2022-10-18T11:43:41.239123Z",
     "iopub.status.idle": "2022-10-18T11:43:41.248881Z",
     "shell.execute_reply": "2022-10-18T11:43:41.247827Z"
    },
    "papermill": {
     "duration": 0.016038,
     "end_time": "2022-10-18T11:43:41.251165",
     "exception": false,
     "start_time": "2022-10-18T11:43:41.235127",
     "status": "completed"
    },
    "tags": []
   },
   "outputs": [],
   "source": [
    "# 모델 설계\n",
    "layer1 = torch.nn.Linear(x_tensor.shape[1], 64)\n",
    "layer2 = torch.nn.Linear(64, 2)\n",
    "\n",
    "# 활성화 함수\n",
    "sigmoid = torch.nn.Sigmoid()\n",
    "\n",
    "# softmax 함수\n",
    "softmax = torch.nn.Softmax(dim=1)\n",
    "\n",
    "# 레이어 연결\n",
    "model = torch.nn.Sequential(\n",
    "    layer1, sigmoid,\n",
    "    layer2, softmax\n",
    ")\n",
    "\n",
    "#loss 함수 설정\n",
    "loss = torch.nn.CrossEntropyLoss()\n",
    "optimizer = torch.optim.Adam(model.parameters(), lr=0.001)"
   ]
  },
  {
   "cell_type": "code",
   "execution_count": 9,
   "id": "122b63f8",
   "metadata": {
    "execution": {
     "iopub.execute_input": "2022-10-18T11:43:41.258400Z",
     "iopub.status.busy": "2022-10-18T11:43:41.258108Z",
     "iopub.status.idle": "2022-10-18T11:43:45.008614Z",
     "shell.execute_reply": "2022-10-18T11:43:45.007303Z"
    },
    "papermill": {
     "duration": 3.758327,
     "end_time": "2022-10-18T11:43:45.012540",
     "exception": false,
     "start_time": "2022-10-18T11:43:41.254213",
     "status": "completed"
    },
    "tags": []
   },
   "outputs": [
    {
     "name": "stdout",
     "output_type": "stream",
     "text": [
      "0 0.7015807628631592\n",
      "100 0.511850118637085\n",
      "200 0.46545353531837463\n",
      "300 0.4521282911300659\n",
      "400 0.4452599585056305\n",
      "500 0.4402424097061157\n",
      "600 0.4360741674900055\n",
      "700 0.43235474824905396\n",
      "800 0.42869314551353455\n",
      "900 0.4246274530887604\n",
      "1000 0.4190783202648163\n",
      "1100 0.41409212350845337\n",
      "1200 0.4104325473308563\n",
      "1300 0.40776076912879944\n",
      "1400 0.4057271480560303\n",
      "1500 0.40309709310531616\n",
      "1600 0.3994313180446625\n",
      "1700 0.39672723412513733\n",
      "1800 0.3901739716529846\n",
      "1900 0.3879695236682892\n",
      "2000 0.3869483470916748\n",
      "2100 0.38628533482551575\n",
      "2200 0.38580963015556335\n",
      "2300 0.38545021414756775\n",
      "2400 0.3851690888404846\n",
      "2500 0.38494327664375305\n",
      "2600 0.38475704193115234\n",
      "2700 0.38459667563438416\n",
      "2800 0.38440829515457153\n",
      "2900 0.3810882270336151\n",
      "3000 0.37898531556129456\n",
      "3100 0.3732011914253235\n",
      "3200 0.372569739818573\n",
      "3300 0.37227097153663635\n",
      "3400 0.37207913398742676\n",
      "3500 0.37194061279296875\n",
      "3600 0.37183383107185364\n",
      "3700 0.37174832820892334\n",
      "3800 0.3716779053211212\n",
      "3900 0.37161877751350403\n",
      "4000 0.37156856060028076\n",
      "4100 0.3715251088142395\n",
      "4200 0.3714873790740967\n",
      "4300 0.3714543282985687\n",
      "4400 0.371425062417984\n",
      "4500 0.3713991045951843\n",
      "4600 0.37137600779533386\n",
      "4700 0.37135517597198486\n",
      "4800 0.371336430311203\n",
      "4900 0.3713195323944092\n"
     ]
    }
   ],
   "source": [
    "# 모델 학습\n",
    "epochs = 5000\n",
    "for epoch in range(epochs):\n",
    "    optimizer.zero_grad()\n",
    "    cost = loss(model(x_tensor), y_tensor)\n",
    "    cost.backward()\n",
    "    optimizer.step()\n",
    "    \n",
    "    if epoch % 100 == 0:\n",
    "        print(epoch, cost.item())"
   ]
  },
  {
   "cell_type": "code",
   "execution_count": 10,
   "id": "aa86ef64",
   "metadata": {
    "execution": {
     "iopub.execute_input": "2022-10-18T11:43:45.023571Z",
     "iopub.status.busy": "2022-10-18T11:43:45.022567Z",
     "iopub.status.idle": "2022-10-18T11:43:45.033899Z",
     "shell.execute_reply": "2022-10-18T11:43:45.033192Z"
    },
    "papermill": {
     "duration": 0.018528,
     "end_time": "2022-10-18T11:43:45.035974",
     "exception": false,
     "start_time": "2022-10-18T11:43:45.017446",
     "status": "completed"
    },
    "tags": []
   },
   "outputs": [],
   "source": [
    "# 정답 도출\n",
    "predict = model(test_tensor).cpu().argmax(dim=1)\n",
    "submit.target = predict.detach()\n",
    "submit.to_csv('submission.csv', index=False)"
   ]
  }
 ],
 "metadata": {
  "kernelspec": {
   "display_name": "Python 3",
   "language": "python",
   "name": "python3"
  },
  "language_info": {
   "codemirror_mode": {
    "name": "ipython",
    "version": 3
   },
   "file_extension": ".py",
   "mimetype": "text/x-python",
   "name": "python",
   "nbconvert_exporter": "python",
   "pygments_lexer": "ipython3",
   "version": "3.7.12"
  },
  "papermill": {
   "default_parameters": {},
   "duration": 18.959211,
   "end_time": "2022-10-18T11:43:46.062663",
   "environment_variables": {},
   "exception": null,
   "input_path": "__notebook__.ipynb",
   "output_path": "__notebook__.ipynb",
   "parameters": {},
   "start_time": "2022-10-18T11:43:27.103452",
   "version": "2.3.4"
  }
 },
 "nbformat": 4,
 "nbformat_minor": 5
}
