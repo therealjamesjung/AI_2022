{
 "cells": [
  {
   "cell_type": "code",
   "execution_count": 1,
   "metadata": {},
   "outputs": [],
   "source": [
    "import pandas as pd\n",
    "import numpy as np\n",
    "import torch"
   ]
  },
  {
   "cell_type": "code",
   "execution_count": 2,
   "metadata": {},
   "outputs": [],
   "source": [
    "import random\n",
    "import torch\n",
    "\n",
    "seed = 42\n",
    "random.seed(seed)\n",
    "np.random.seed(seed)\n",
    "torch.manual_seed(seed)\n",
    "if torch.cuda.is_available():\n",
    "    torch.cuda.manual_seed(seed)\n",
    "    torch.cuda.manual_seed_all(seed)\n",
    "torch.backends.cudnn.benchmark = False\n",
    "torch.backends.cudnn.deterministic = True"
   ]
  },
  {
   "cell_type": "code",
   "execution_count": 3,
   "metadata": {},
   "outputs": [],
   "source": [
    "train = pd.read_csv('train.csv')\n",
    "test = pd.read_csv('test.csv')"
   ]
  },
  {
   "cell_type": "code",
   "execution_count": 4,
   "metadata": {},
   "outputs": [],
   "source": [
    "y = train['diagnosis']\n",
    "x = train.drop('diagnosis', axis=1)"
   ]
  },
  {
   "cell_type": "code",
   "execution_count": 5,
   "metadata": {},
   "outputs": [],
   "source": [
    "from sklearn.preprocessing import StandardScaler\n",
    "\n",
    "sc = StandardScaler()\n",
    "x = sc.fit_transform(x)\n",
    "test = sc.transform(test)"
   ]
  },
  {
   "cell_type": "code",
   "execution_count": 6,
   "metadata": {},
   "outputs": [],
   "source": [
    "x_tensor = torch.FloatTensor(x)\n",
    "y_tensor = torch.FloatTensor(y).reshape(-1, 1)\n",
    "test_tensor = torch.FloatTensor(test)"
   ]
  },
  {
   "cell_type": "code",
   "execution_count": 7,
   "metadata": {},
   "outputs": [],
   "source": [
    "layer1 = torch.nn.Linear(x_tensor.shape[1], 64)\n",
    "layer2 = torch.nn.Linear(64, 1)\n",
    "\n",
    "ReLU = torch.nn.ReLU()\n",
    "Sigmoid = torch.nn.Sigmoid()\n",
    "\n",
    "model = torch.nn.Sequential(layer1, ReLU, layer2, Sigmoid)\n",
    "optimizer = torch.optim.SGD(model.parameters(), lr=0.01)\n",
    "\n",
    "loss = torch.nn.BCELoss()"
   ]
  },
  {
   "cell_type": "code",
   "execution_count": 8,
   "metadata": {},
   "outputs": [
    {
     "name": "stdout",
     "output_type": "stream",
     "text": [
      "0/10000 cost: 0.6697134375572205\n",
      "100/10000 cost: 0.37863317131996155\n",
      "200/10000 cost: 0.2435004860162735\n",
      "300/10000 cost: 0.17958880960941315\n",
      "400/10000 cost: 0.1448194980621338\n",
      "500/10000 cost: 0.12317901104688644\n",
      "600/10000 cost: 0.10829102993011475\n",
      "700/10000 cost: 0.0973493754863739\n",
      "800/10000 cost: 0.08885503560304642\n",
      "900/10000 cost: 0.08202193677425385\n",
      "1000/10000 cost: 0.07642055302858353\n",
      "1100/10000 cost: 0.07173861563205719\n",
      "1200/10000 cost: 0.06774929910898209\n",
      "1300/10000 cost: 0.06427604705095291\n",
      "1400/10000 cost: 0.0612231008708477\n",
      "1500/10000 cost: 0.0585181787610054\n",
      "1600/10000 cost: 0.056063394993543625\n",
      "1700/10000 cost: 0.05383564904332161\n",
      "1800/10000 cost: 0.05182093381881714\n",
      "1900/10000 cost: 0.05000794306397438\n",
      "2000/10000 cost: 0.04835604131221771\n",
      "2100/10000 cost: 0.04683802276849747\n",
      "2200/10000 cost: 0.04544239863753319\n",
      "2300/10000 cost: 0.044151052832603455\n",
      "2400/10000 cost: 0.042956236749887466\n",
      "2500/10000 cost: 0.041848115622997284\n",
      "2600/10000 cost: 0.04081657901406288\n",
      "2700/10000 cost: 0.03985470533370972\n",
      "2800/10000 cost: 0.03895977884531021\n",
      "2900/10000 cost: 0.03812545910477638\n",
      "3000/10000 cost: 0.03733973205089569\n",
      "3100/10000 cost: 0.03659989684820175\n",
      "3200/10000 cost: 0.03589673712849617\n",
      "3300/10000 cost: 0.03523029386997223\n",
      "3400/10000 cost: 0.034605175256729126\n",
      "3500/10000 cost: 0.03401025012135506\n",
      "3600/10000 cost: 0.03344196453690529\n",
      "3700/10000 cost: 0.03289882466197014\n",
      "3800/10000 cost: 0.03237856179475784\n",
      "3900/10000 cost: 0.03187822178006172\n",
      "4000/10000 cost: 0.03139607235789299\n",
      "4100/10000 cost: 0.03093208186328411\n",
      "4200/10000 cost: 0.030484514310956\n",
      "4300/10000 cost: 0.03005382791161537\n",
      "4400/10000 cost: 0.02963811717927456\n",
      "4500/10000 cost: 0.029236698523163795\n",
      "4600/10000 cost: 0.028848916292190552\n",
      "4700/10000 cost: 0.028474457561969757\n",
      "4800/10000 cost: 0.028111794963479042\n",
      "4900/10000 cost: 0.027760757133364677\n",
      "5000/10000 cost: 0.02741961181163788\n",
      "5100/10000 cost: 0.027088124305009842\n",
      "5200/10000 cost: 0.02676447667181492\n",
      "5300/10000 cost: 0.02644897997379303\n",
      "5400/10000 cost: 0.026141434907913208\n",
      "5500/10000 cost: 0.025841521099209785\n",
      "5600/10000 cost: 0.025548359379172325\n",
      "5700/10000 cost: 0.0252637080848217\n",
      "5800/10000 cost: 0.024985553696751595\n",
      "5900/10000 cost: 0.02471419982612133\n",
      "6000/10000 cost: 0.024449840188026428\n",
      "6100/10000 cost: 0.02418854460120201\n",
      "6200/10000 cost: 0.02392621524631977\n",
      "6300/10000 cost: 0.02366904728114605\n",
      "6400/10000 cost: 0.023416846990585327\n",
      "6500/10000 cost: 0.02316974475979805\n",
      "6600/10000 cost: 0.022927645593881607\n",
      "6700/10000 cost: 0.022689854726195335\n",
      "6800/10000 cost: 0.022456146776676178\n",
      "6900/10000 cost: 0.022226328030228615\n",
      "7000/10000 cost: 0.022000228986144066\n",
      "7100/10000 cost: 0.02177778258919716\n",
      "7200/10000 cost: 0.021559974178671837\n",
      "7300/10000 cost: 0.021345581859350204\n",
      "7400/10000 cost: 0.021134529262781143\n",
      "7500/10000 cost: 0.020928548648953438\n",
      "7600/10000 cost: 0.02072594314813614\n",
      "7700/10000 cost: 0.02052600495517254\n",
      "7800/10000 cost: 0.020328879356384277\n",
      "7900/10000 cost: 0.02013431489467621\n",
      "8000/10000 cost: 0.019942274317145348\n",
      "8100/10000 cost: 0.01975218765437603\n",
      "8200/10000 cost: 0.019564438611268997\n",
      "8300/10000 cost: 0.01937909610569477\n",
      "8400/10000 cost: 0.01919761672616005\n",
      "8500/10000 cost: 0.019026821479201317\n",
      "8600/10000 cost: 0.018861016258597374\n",
      "8700/10000 cost: 0.018697619438171387\n",
      "8800/10000 cost: 0.018536491319537163\n",
      "8900/10000 cost: 0.01837763749063015\n",
      "9000/10000 cost: 0.01822100393474102\n",
      "9100/10000 cost: 0.01806637831032276\n",
      "9200/10000 cost: 0.017913566902279854\n",
      "9300/10000 cost: 0.017762621864676476\n",
      "9400/10000 cost: 0.017613621428608894\n",
      "9500/10000 cost: 0.01746673695743084\n",
      "9600/10000 cost: 0.017321517691016197\n",
      "9700/10000 cost: 0.017177825793623924\n",
      "9800/10000 cost: 0.017036017030477524\n",
      "9900/10000 cost: 0.016895972192287445\n"
     ]
    }
   ],
   "source": [
    "epochs = 10000\n",
    "\n",
    "for epoch in range(epochs):\n",
    "    optimizer.zero_grad()\n",
    "    hypothesis = model(x_tensor)\n",
    "    cost = loss(hypothesis, y_tensor)\n",
    "    cost.backward()\n",
    "    optimizer.step()\n",
    "\n",
    "    if epoch % 100 == 0:\n",
    "        print(f'{epoch}/{epochs} cost: {cost.item()}')"
   ]
  },
  {
   "cell_type": "code",
   "execution_count": 10,
   "metadata": {},
   "outputs": [],
   "source": [
    "predict = [int(x >= 0.5) for x in model(test_tensor)]\n",
    "submit = pd.read_csv('submit_sample.csv')\n",
    "submit['diagnosis'] = predict\n",
    "submit.to_csv('submit.csv', index=False)"
   ]
  },
  {
   "cell_type": "code",
   "execution_count": null,
   "metadata": {},
   "outputs": [],
   "source": []
  }
 ],
 "metadata": {
  "kernelspec": {
   "display_name": "Python 3.9.13 64-bit ('base')",
   "language": "python",
   "name": "python3"
  },
  "language_info": {
   "codemirror_mode": {
    "name": "ipython",
    "version": 3
   },
   "file_extension": ".py",
   "mimetype": "text/x-python",
   "name": "python",
   "nbconvert_exporter": "python",
   "pygments_lexer": "ipython3",
   "version": "3.9.13"
  },
  "orig_nbformat": 4,
  "vscode": {
   "interpreter": {
    "hash": "3b56a72e9acabfb7e93d1aa640bab3f729f4fa7900e427b4a015597563d3c661"
   }
  }
 },
 "nbformat": 4,
 "nbformat_minor": 2
}
