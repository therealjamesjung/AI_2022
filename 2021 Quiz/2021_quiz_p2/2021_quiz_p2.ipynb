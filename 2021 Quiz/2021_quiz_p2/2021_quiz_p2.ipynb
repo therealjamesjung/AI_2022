{
 "cells": [
  {
   "cell_type": "code",
   "execution_count": 1,
   "metadata": {},
   "outputs": [],
   "source": [
    "import pandas as pd\n",
    "import numpy as np\n",
    "import torch"
   ]
  },
  {
   "cell_type": "code",
   "execution_count": 2,
   "metadata": {},
   "outputs": [],
   "source": [
    "train = pd.read_csv('train.csv').drop('Unnamed: 0', axis=1)\n",
    "test = pd.read_csv('test.csv').drop(['Unnamed: 0', '8'], axis=1)"
   ]
  },
  {
   "cell_type": "code",
   "execution_count": 3,
   "metadata": {},
   "outputs": [],
   "source": [
    "y = train['8'].to_numpy(dtype='int64')\n",
    "x = train.drop('8', axis=1)"
   ]
  },
  {
   "cell_type": "code",
   "execution_count": 4,
   "metadata": {},
   "outputs": [],
   "source": [
    "from sklearn.preprocessing import StandardScaler\n",
    "\n",
    "sc = StandardScaler()\n",
    "x = sc.fit_transform(x)\n",
    "test = sc.transform(test)"
   ]
  },
  {
   "cell_type": "code",
   "execution_count": 5,
   "metadata": {},
   "outputs": [],
   "source": [
    "x_tensor = torch.FloatTensor(x)\n",
    "y_tensor = torch.LongTensor(y)#.reshape(-1, 1)\n",
    "test_tensor = torch.FloatTensor(test)"
   ]
  },
  {
   "cell_type": "code",
   "execution_count": 6,
   "metadata": {},
   "outputs": [],
   "source": [
    "layer1 = torch.nn.Linear(x_tensor.shape[1], 16, bias=True)\n",
    "layer2 = torch.nn.Linear(16, len(y_tensor.unique()), bias=True)\n",
    "relu = torch.nn.ReLU()\n",
    "sigmoid = torch.nn.Sigmoid()\n",
    "\n",
    "model = torch.nn.Sequential(layer1, sigmoid, layer2)\n",
    "optimizer = torch.optim.SGD(model.parameters(), lr=0.01)\n",
    "\n",
    "loss = torch.nn.CrossEntropyLoss()"
   ]
  },
  {
   "cell_type": "code",
   "execution_count": 7,
   "metadata": {},
   "outputs": [
    {
     "name": "stdout",
     "output_type": "stream",
     "text": [
      "0/5000: cost:0.7279791235923767\n",
      "100/5000: cost:0.6652815937995911\n",
      "200/5000: cost:0.647348165512085\n",
      "300/5000: cost:0.640680730342865\n",
      "400/5000: cost:0.6370262503623962\n",
      "500/5000: cost:0.6343601942062378\n",
      "600/5000: cost:0.6320474147796631\n",
      "700/5000: cost:0.6298466324806213\n",
      "800/5000: cost:0.6276547908782959\n",
      "900/5000: cost:0.625424861907959\n",
      "1000/5000: cost:0.6231358647346497\n",
      "1100/5000: cost:0.6207804679870605\n",
      "1200/5000: cost:0.6183582544326782\n",
      "1300/5000: cost:0.615873396396637\n",
      "1400/5000: cost:0.6133329272270203\n",
      "1500/5000: cost:0.6107460260391235\n",
      "1600/5000: cost:0.6081229448318481\n",
      "1700/5000: cost:0.6054751873016357\n",
      "1800/5000: cost:0.6028150916099548\n",
      "1900/5000: cost:0.6001548767089844\n",
      "2000/5000: cost:0.5975069999694824\n",
      "2100/5000: cost:0.5948835015296936\n",
      "2200/5000: cost:0.5922955870628357\n",
      "2300/5000: cost:0.5897536277770996\n",
      "2400/5000: cost:0.5872668623924255\n",
      "2500/5000: cost:0.584843099117279\n",
      "2600/5000: cost:0.5824891924858093\n",
      "2700/5000: cost:0.5802102088928223\n",
      "2800/5000: cost:0.5780101418495178\n",
      "2900/5000: cost:0.5758918523788452\n",
      "3000/5000: cost:0.5738569498062134\n",
      "3100/5000: cost:0.5719060301780701\n",
      "3200/5000: cost:0.5700388550758362\n",
      "3300/5000: cost:0.5682545304298401\n",
      "3400/5000: cost:0.5665515065193176\n",
      "3500/5000: cost:0.5649278163909912\n",
      "3600/5000: cost:0.5633810758590698\n",
      "3700/5000: cost:0.5619086623191833\n",
      "3800/5000: cost:0.5605076551437378\n",
      "3900/5000: cost:0.5591751933097839\n",
      "4000/5000: cost:0.5579081773757935\n",
      "4100/5000: cost:0.5567035675048828\n",
      "4200/5000: cost:0.5555582046508789\n",
      "4300/5000: cost:0.5544693470001221\n",
      "4400/5000: cost:0.5534340739250183\n",
      "4500/5000: cost:0.5524495244026184\n",
      "4600/5000: cost:0.5515129566192627\n",
      "4700/5000: cost:0.550621747970581\n",
      "4800/5000: cost:0.5497735142707825\n",
      "4900/5000: cost:0.5489658713340759\n"
     ]
    }
   ],
   "source": [
    "epochs = 5000\n",
    "for epoch in range(epochs):\n",
    "    optimizer.zero_grad()\n",
    "    hypothesis = torch.nn.functional.softmax(model(x_tensor), dim=1)\n",
    "    cost = loss(hypothesis, y_tensor)\n",
    "    cost.backward()\n",
    "    optimizer.step()\n",
    "\n",
    "    if epoch % 100 == 0:\n",
    "        print(f'{epoch}/{epochs}: cost:{cost.item()}')\n"
   ]
  },
  {
   "cell_type": "code",
   "execution_count": 8,
   "metadata": {},
   "outputs": [],
   "source": [
    "predict = torch.argmax(model(test_tensor), dim=1)\n",
    "submit = pd.read_csv('submit_sample.csv')\n",
    "submit['Label'] = predict\n",
    "submit.to_csv('submit.csv', index=False)"
   ]
  }
 ],
 "metadata": {
  "kernelspec": {
   "display_name": "Python 3.9.13 64-bit ('base')",
   "language": "python",
   "name": "python3"
  },
  "language_info": {
   "codemirror_mode": {
    "name": "ipython",
    "version": 3
   },
   "file_extension": ".py",
   "mimetype": "text/x-python",
   "name": "python",
   "nbconvert_exporter": "python",
   "pygments_lexer": "ipython3",
   "version": "3.9.13"
  },
  "orig_nbformat": 4,
  "vscode": {
   "interpreter": {
    "hash": "3b56a72e9acabfb7e93d1aa640bab3f729f4fa7900e427b4a015597563d3c661"
   }
  }
 },
 "nbformat": 4,
 "nbformat_minor": 2
}
