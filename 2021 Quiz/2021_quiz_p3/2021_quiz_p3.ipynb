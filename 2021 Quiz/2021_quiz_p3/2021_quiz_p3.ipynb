{
 "cells": [
  {
   "cell_type": "code",
   "execution_count": 1,
   "metadata": {},
   "outputs": [],
   "source": [
    "import pandas as pd\n",
    "import numpy as np\n",
    "import torch"
   ]
  },
  {
   "cell_type": "code",
   "execution_count": 2,
   "metadata": {},
   "outputs": [],
   "source": [
    "import random\n",
    "import torch\n",
    "\n",
    "seed = 42\n",
    "random.seed(seed)\n",
    "np.random.seed(seed)\n",
    "torch.manual_seed(seed)\n",
    "if torch.cuda.is_available():\n",
    "    torch.cuda.manual_seed(seed)\n",
    "    torch.cuda.manual_seed_all(seed)\n",
    "torch.backends.cudnn.benchmark = False\n",
    "torch.backends.cudnn.deterministic = True"
   ]
  },
  {
   "cell_type": "code",
   "execution_count": 3,
   "metadata": {},
   "outputs": [],
   "source": [
    "train = pd.read_csv('train.csv')\n",
    "test = pd.read_csv('test.csv')"
   ]
  },
  {
   "cell_type": "code",
   "execution_count": 4,
   "metadata": {},
   "outputs": [],
   "source": [
    "train = train.drop('Unnamed: 0', axis=1)\n",
    "test = test.drop('Unnamed: 0', axis=1)"
   ]
  },
  {
   "cell_type": "code",
   "execution_count": 5,
   "metadata": {},
   "outputs": [],
   "source": [
    "y = train['0.1']\n",
    "x = train.drop('0.1', axis=1)"
   ]
  },
  {
   "cell_type": "code",
   "execution_count": 6,
   "metadata": {},
   "outputs": [],
   "source": [
    "from sklearn.preprocessing import StandardScaler\n",
    "\n",
    "sc = StandardScaler()\n",
    "\n",
    "x = sc.fit_transform(x)\n",
    "test = sc.transform(test)"
   ]
  },
  {
   "cell_type": "code",
   "execution_count": 7,
   "metadata": {},
   "outputs": [],
   "source": [
    "x_tensor = torch.FloatTensor(x)\n",
    "y_tensor = torch.LongTensor(y)\n",
    "test_tensor = torch.FloatTensor(test)"
   ]
  },
  {
   "cell_type": "code",
   "execution_count": 8,
   "metadata": {},
   "outputs": [],
   "source": [
    "layer1 = torch.nn.Linear(x_tensor.shape[1], 256)\n",
    "layer2 = torch.nn.Linear(256, 128)\n",
    "layer3 = torch.nn.Linear(128, len(y_tensor.unique()))\n",
    "ReLU = torch.nn.ReLU()\n",
    "Softmax = torch.nn.Softmax(dim=1)\n",
    "\n",
    "model = torch.nn.Sequential(layer1, ReLU, layer2, ReLU, layer3, Softmax)\n",
    "optimizer = torch.optim.SGD(model.parameters(), lr=0.1)\n",
    "\n",
    "loss = torch.nn.CrossEntropyLoss()"
   ]
  },
  {
   "cell_type": "code",
   "execution_count": 9,
   "metadata": {},
   "outputs": [
    {
     "name": "stdout",
     "output_type": "stream",
     "text": [
      "0/10000 cost: 1.954034686088562\n",
      "100/10000 cost: 1.7748022079467773\n",
      "200/10000 cost: 1.7622977495193481\n",
      "300/10000 cost: 1.7460623979568481\n",
      "400/10000 cost: 1.7028226852416992\n",
      "500/10000 cost: 1.6062690019607544\n",
      "600/10000 cost: 1.571175217628479\n",
      "700/10000 cost: 1.5452840328216553\n",
      "800/10000 cost: 1.5020077228546143\n",
      "900/10000 cost: 1.470703125\n",
      "1000/10000 cost: 1.4509950876235962\n",
      "1100/10000 cost: 1.4234778881072998\n",
      "1200/10000 cost: 1.385155200958252\n",
      "1300/10000 cost: 1.340802788734436\n",
      "1400/10000 cost: 1.3126014471054077\n",
      "1500/10000 cost: 1.300623893737793\n",
      "1600/10000 cost: 1.294862985610962\n",
      "1700/10000 cost: 1.2906709909439087\n",
      "1800/10000 cost: 1.2837539911270142\n",
      "1900/10000 cost: 1.2590715885162354\n",
      "2000/10000 cost: 1.2422150373458862\n",
      "2100/10000 cost: 1.2275103330612183\n",
      "2200/10000 cost: 1.2064789533615112\n",
      "2300/10000 cost: 1.189994215965271\n",
      "2400/10000 cost: 1.1820014715194702\n",
      "2500/10000 cost: 1.1782535314559937\n",
      "2600/10000 cost: 1.17635178565979\n",
      "2700/10000 cost: 1.1752445697784424\n",
      "2800/10000 cost: 1.1745340824127197\n",
      "2900/10000 cost: 1.1740421056747437\n",
      "3000/10000 cost: 1.1736828088760376\n",
      "3100/10000 cost: 1.1734086275100708\n",
      "3200/10000 cost: 1.1731922626495361\n",
      "3300/10000 cost: 1.1730132102966309\n",
      "3400/10000 cost: 1.1728415489196777\n",
      "3500/10000 cost: 1.1727155447006226\n",
      "3600/10000 cost: 1.1726160049438477\n",
      "3700/10000 cost: 1.1725305318832397\n",
      "3800/10000 cost: 1.1724570989608765\n",
      "3900/10000 cost: 1.1723926067352295\n",
      "4000/10000 cost: 1.1723356246948242\n",
      "4100/10000 cost: 1.172284483909607\n",
      "4200/10000 cost: 1.1722365617752075\n",
      "4300/10000 cost: 1.1721775531768799\n",
      "4400/10000 cost: 1.172117829322815\n",
      "4500/10000 cost: 1.1720845699310303\n",
      "4600/10000 cost: 1.1720545291900635\n",
      "4700/10000 cost: 1.1720271110534668\n",
      "4800/10000 cost: 1.1720019578933716\n",
      "4900/10000 cost: 1.1719788312911987\n",
      "5000/10000 cost: 1.1719574928283691\n",
      "5100/10000 cost: 1.1719375848770142\n",
      "5200/10000 cost: 1.1719192266464233\n",
      "5300/10000 cost: 1.1719019412994385\n",
      "5400/10000 cost: 1.1718857288360596\n",
      "5500/10000 cost: 1.1718703508377075\n",
      "5600/10000 cost: 1.1718556880950928\n",
      "5700/10000 cost: 1.1718416213989258\n",
      "5800/10000 cost: 1.1718275547027588\n",
      "5900/10000 cost: 1.171812653541565\n",
      "6000/10000 cost: 1.1717947721481323\n",
      "6100/10000 cost: 1.1717585325241089\n",
      "6200/10000 cost: 1.1711459159851074\n",
      "6300/10000 cost: 1.1708751916885376\n",
      "6400/10000 cost: 1.1708406209945679\n",
      "6500/10000 cost: 1.170820713043213\n",
      "6600/10000 cost: 1.1708056926727295\n",
      "6700/10000 cost: 1.1707932949066162\n",
      "6800/10000 cost: 1.170782446861267\n",
      "6900/10000 cost: 1.1707724332809448\n",
      "7000/10000 cost: 1.1707634925842285\n",
      "7100/10000 cost: 1.1707549095153809\n",
      "7200/10000 cost: 1.170746922492981\n",
      "7300/10000 cost: 1.170738935470581\n",
      "7400/10000 cost: 1.1707313060760498\n",
      "7500/10000 cost: 1.170723795890808\n",
      "7600/10000 cost: 1.170716643333435\n",
      "7700/10000 cost: 1.1707099676132202\n",
      "7800/10000 cost: 1.1707040071487427\n",
      "7900/10000 cost: 1.1706984043121338\n",
      "8000/10000 cost: 1.1706933975219727\n",
      "8100/10000 cost: 1.170688271522522\n",
      "8200/10000 cost: 1.1706838607788086\n",
      "8300/10000 cost: 1.1706794500350952\n",
      "8400/10000 cost: 1.170675277709961\n",
      "8500/10000 cost: 1.1706713438034058\n",
      "8600/10000 cost: 1.1706675291061401\n",
      "8700/10000 cost: 1.170663833618164\n",
      "8800/10000 cost: 1.1706602573394775\n",
      "8900/10000 cost: 1.170656681060791\n",
      "9000/10000 cost: 1.1706534624099731\n",
      "9100/10000 cost: 1.1706501245498657\n",
      "9200/10000 cost: 1.170647144317627\n",
      "9300/10000 cost: 1.1706440448760986\n",
      "9400/10000 cost: 1.1706411838531494\n",
      "9500/10000 cost: 1.1706383228302002\n",
      "9600/10000 cost: 1.17063570022583\n",
      "9700/10000 cost: 1.17063307762146\n",
      "9800/10000 cost: 1.1706305742263794\n",
      "9900/10000 cost: 1.1706280708312988\n"
     ]
    }
   ],
   "source": [
    "epochs = 10000\n",
    "\n",
    "for epoch in range(epochs):\n",
    "    optimizer.zero_grad()\n",
    "    hypothesis = model(x_tensor)\n",
    "    cost = loss(hypothesis, y_tensor)\n",
    "    cost.backward()\n",
    "    optimizer.step()\n",
    "\n",
    "    if epoch % 100 == 0:\n",
    "        print(f'{epoch}/{epochs} cost: {cost.item()}')"
   ]
  },
  {
   "cell_type": "code",
   "execution_count": 10,
   "metadata": {},
   "outputs": [],
   "source": [
    "predict = torch.argmax(model(test_tensor), dim=1)\n",
    "submit = pd.read_csv('submit_sample.csv')\n",
    "submit['Category'] = predict.detach()\n",
    "submit.to_csv('submit.csv', index=False)"
   ]
  },
  {
   "cell_type": "code",
   "execution_count": null,
   "metadata": {},
   "outputs": [],
   "source": []
  }
 ],
 "metadata": {
  "kernelspec": {
   "display_name": "Python 3.9.13 64-bit ('base')",
   "language": "python",
   "name": "python3"
  },
  "language_info": {
   "codemirror_mode": {
    "name": "ipython",
    "version": 3
   },
   "file_extension": ".py",
   "mimetype": "text/x-python",
   "name": "python",
   "nbconvert_exporter": "python",
   "pygments_lexer": "ipython3",
   "version": "3.9.13"
  },
  "orig_nbformat": 4,
  "vscode": {
   "interpreter": {
    "hash": "3b56a72e9acabfb7e93d1aa640bab3f729f4fa7900e427b4a015597563d3c661"
   }
  }
 },
 "nbformat": 4,
 "nbformat_minor": 2
}
