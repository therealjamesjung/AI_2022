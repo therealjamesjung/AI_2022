{
 "cells": [
  {
   "cell_type": "code",
   "execution_count": 21,
   "metadata": {},
   "outputs": [],
   "source": [
    "import pandas as pd\n",
    "import numpy as np\n",
    "import torch"
   ]
  },
  {
   "cell_type": "code",
   "execution_count": 22,
   "metadata": {},
   "outputs": [],
   "source": [
    "train = pd.read_csv('train.csv')   \n",
    "test = pd.read_csv('test.csv')"
   ]
  },
  {
   "cell_type": "code",
   "execution_count": 23,
   "metadata": {},
   "outputs": [],
   "source": [
    "y = train['avgPrice']\n",
    "x = train.drop(['avgPrice'], axis=1)"
   ]
  },
  {
   "cell_type": "code",
   "execution_count": 24,
   "metadata": {},
   "outputs": [],
   "source": [
    "x.year = [int(str(date)[4:6]) for date in x.year]\n",
    "test.year = [int(str(date)[4:6]) for date in test.year]"
   ]
  },
  {
   "cell_type": "code",
   "execution_count": 25,
   "metadata": {},
   "outputs": [],
   "source": [
    "from sklearn.preprocessing import StandardScaler\n",
    "\n",
    "sc = StandardScaler()\n",
    "x = sc.fit_transform(x)\n",
    "test = sc.transform(test)"
   ]
  },
  {
   "cell_type": "code",
   "execution_count": 26,
   "metadata": {},
   "outputs": [
    {
     "data": {
      "text/plain": [
       "(2557, 5)"
      ]
     },
     "execution_count": 26,
     "metadata": {},
     "output_type": "execute_result"
    }
   ],
   "source": [
    "x.shape"
   ]
  },
  {
   "cell_type": "code",
   "execution_count": 27,
   "metadata": {},
   "outputs": [],
   "source": [
    "x_tensor = torch.FloatTensor(x)\n",
    "y_tensor = torch.FloatTensor(y)\n",
    "test_tensor = torch.FloatTensor(test)"
   ]
  },
  {
   "cell_type": "code",
   "execution_count": 28,
   "metadata": {},
   "outputs": [],
   "source": [
    "layer1 = torch.nn.Linear(x.shape[1], 16, bias=True)\n",
    "layer2 = torch.nn.Linear(16, 1, bias=True)\n",
    "sigmoid = torch.nn.Sigmoid()\n",
    "\n",
    "model = torch.nn.Sequential(layer1, sigmoid, layer2)\n",
    "optimizer = torch.optim.SGD(model.parameters(), lr=0.01)"
   ]
  },
  {
   "cell_type": "code",
   "execution_count": 29,
   "metadata": {},
   "outputs": [
    {
     "name": "stdout",
     "output_type": "stream",
     "text": [
      "Epoch    0/15 Cost: 12015675.000000\n",
      "Epoch    1/15 Cost: 10274587.000000\n",
      "Epoch    2/15 Cost: 6987884.500000\n",
      "Epoch    3/15 Cost: 4348667.000000\n",
      "Epoch    4/15 Cost: 3031039.000000\n",
      "Epoch    5/15 Cost: 2386502.000000\n",
      "Epoch    6/15 Cost: 2084217.000000\n",
      "Epoch    7/15 Cost: 1946406.625000\n",
      "Epoch    8/15 Cost: 1882070.750000\n",
      "Epoch    9/15 Cost: 1851555.875000\n",
      "Epoch   10/15 Cost: 1836903.375000\n",
      "Epoch   11/15 Cost: 1829954.000000\n",
      "Epoch   12/15 Cost: 1826619.375000\n",
      "Epoch   13/15 Cost: 1824924.250000\n",
      "Epoch   14/15 Cost: 1824013.000000\n"
     ]
    },
    {
     "name": "stderr",
     "output_type": "stream",
     "text": [
      "/var/folders/wr/bqxxn9ss13b7snt4sxqbl0zm0000gn/T/ipykernel_54489/780144082.py:6: UserWarning: Using a target size (torch.Size([2557])) that is different to the input size (torch.Size([2557, 1])). This will likely lead to incorrect results due to broadcasting. Please ensure they have the same size.\n",
      "  cost = torch.nn.functional.mse_loss(hypothesis, y_tensor)\n"
     ]
    }
   ],
   "source": [
    "epochs = 15\n",
    "\n",
    "for epoch in range(epochs):\n",
    "    optimizer.zero_grad()\n",
    "    hypothesis = model(x_tensor)\n",
    "    cost = torch.nn.functional.mse_loss(hypothesis, y_tensor)\n",
    "    cost.backward()\n",
    "    optimizer.step()\n",
    "    print('Epoch {:4d}/{} Cost: {:.6f}'.format(epoch, epochs, cost.item()))"
   ]
  },
  {
   "cell_type": "code",
   "execution_count": 30,
   "metadata": {},
   "outputs": [],
   "source": [
    "predict = model(test_tensor)\n",
    "submit = pd.read_csv('submit_sample.csv')\n",
    "submit['Expected'] = predict.detach()\n",
    "submit.to_csv('submit.csv', index=False)"
   ]
  },
  {
   "cell_type": "code",
   "execution_count": null,
   "metadata": {},
   "outputs": [],
   "source": []
  }
 ],
 "metadata": {
  "kernelspec": {
   "display_name": "Python 3.9.13 64-bit ('base')",
   "language": "python",
   "name": "python3"
  },
  "language_info": {
   "codemirror_mode": {
    "name": "ipython",
    "version": 3
   },
   "file_extension": ".py",
   "mimetype": "text/x-python",
   "name": "python",
   "nbconvert_exporter": "python",
   "pygments_lexer": "ipython3",
   "version": "3.9.13"
  },
  "orig_nbformat": 4,
  "vscode": {
   "interpreter": {
    "hash": "3b56a72e9acabfb7e93d1aa640bab3f729f4fa7900e427b4a015597563d3c661"
   }
  }
 },
 "nbformat": 4,
 "nbformat_minor": 2
}
